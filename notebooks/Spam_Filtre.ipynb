{
 "cells": [
  {
   "cell_type": "markdown",
   "id": "22930ec1",
   "metadata": {},
   "source": [
    "# Filtro de Spam Multilingüe\n",
    "Este notebook muestra paso a paso cómo construir un filtro de spam funcional capaz de trabajar con varios idiomas. \n",
    "Incluye detección automática de idioma, traducción al inglés si es necesario y un pipeline básico para clasificación."
   ]
  },
  {
   "cell_type": "code",
   "execution_count": 68,
   "id": "b012657d",
   "metadata": {},
   "outputs": [],
   "source": [
    "# Importación de librerías necesarias\n",
    "from langdetect import detect\n",
    "from deep_translator import GoogleTranslator\n",
    "\n",
    "import os\n",
    "import pandas as pd\n",
    "import zipfile\n",
    "import requests\n",
    "from tqdm.notebook import tqdm\n",
    "import pickle\n",
    "\n",
    "\n",
    "import re\n",
    "import numpy as np\n",
    "\n",
    "from sklearn.model_selection import train_test_split\n",
    "from sklearn.feature_extraction.text import TfidfVectorizer\n",
    "from sklearn.naive_bayes import MultinomialNB\n",
    "from sklearn.svm import LinearSVC\n",
    "from sklearn.metrics import classification_report, confusion_matrix,accuracy_score\n",
    "\n",
    "\n",
    "import matplotlib.pyplot as plt\n",
    "\n",
    "import tensorflow as tf\n",
    "from tensorflow.keras.preprocessing.text import Tokenizer\n",
    "from tensorflow.keras.preprocessing.sequence import pad_sequences\n",
    "from tensorflow.keras.callbacks import EarlyStopping, ReduceLROnPlateau\n",
    "from tensorflow.keras.models import Sequential\n",
    "from tensorflow.keras.layers import Embedding, Conv1D, GlobalMaxPooling1D, Dense, Dropout\n",
    "\n"
   ]
  },
  {
   "cell_type": "markdown",
   "id": "068abc8c",
   "metadata": {},
   "source": [
    "## Detección de idioma\n",
    "\n",
    "Usaremos la librería `langdetect` para identificar automáticamente el idioma de cada mensaje."
   ]
  },
  {
   "cell_type": "code",
   "execution_count": 69,
   "id": "b62a20f5",
   "metadata": {},
   "outputs": [
    {
     "name": "stdout",
     "output_type": "stream",
     "text": [
      "Texto: Congratulations! You've won a free ticket.\n",
      "Idioma detectado: en\n",
      "\n",
      "Texto: ¡Felicidades! Has ganado una entrada gratis.\n",
      "Idioma detectado: es\n",
      "\n",
      "Texto: Félicitations ! Vous avez gagné un billet gratuit.\n",
      "Idioma detectado: fr\n",
      "\n"
     ]
    }
   ],
   "source": [
    "# Ejemplo de detección de idioma\n",
    "sample_texts = [\n",
    "    \"Congratulations! You've won a free ticket.\",\n",
    "    \"¡Felicidades! Has ganado una entrada gratis.\",\n",
    "    \"Félicitations ! Vous avez gagné un billet gratuit.\"\n",
    "]\n",
    "\n",
    "for text in sample_texts:\n",
    "    lang = detect(text)\n",
    "    print(f\"Texto: {text}\\nIdioma detectado: {lang}\\n\")"
   ]
  },
  {
   "cell_type": "markdown",
   "id": "2bc753cd",
   "metadata": {},
   "source": [
    "## Traducción automática\n",
    "\n",
    "Si el idioma detectado no es inglés, traduciremos el texto usando `googletrans`."
   ]
  },
  {
   "cell_type": "code",
   "execution_count": 70,
   "id": "882de60d",
   "metadata": {},
   "outputs": [
    {
     "name": "stdout",
     "output_type": "stream",
     "text": [
      "Original (ya en inglés): Congratulations! You've won a free ticket.\n",
      "\n",
      "Original: ¡Felicidades! Has ganado una entrada gratis.\n",
      "Traducido: Congratulations! You have won a free ticket.\n",
      "\n",
      "Original: Félicitations ! Vous avez gagné un billet gratuit.\n",
      "Traducido: Congratulations ! You have won a free ticket.\n",
      "\n"
     ]
    }
   ],
   "source": [
    "# Ejemplo de traducción automática\n",
    "\n",
    "for text in sample_texts:\n",
    "    lang = detect(text)\n",
    "    if lang != \"en\":\n",
    "        translated = GoogleTranslator(source=lang, target=\"en\").translate(text)\n",
    "        print(f\"Original: {text}\\nTraducido: {translated}\\n\")\n",
    "    else:\n",
    "        print(f\"Original (ya en inglés): {text}\\n\")"
   ]
  },
  {
   "cell_type": "markdown",
   "id": "a92679d6",
   "metadata": {},
   "source": [
    "## Pipeline: Detección de idioma y traducción\n",
    "\n",
    "Función que detecta el idioma y traduce al inglés si es necesario."
   ]
  },
  {
   "cell_type": "code",
   "execution_count": 71,
   "id": "fba50dc7",
   "metadata": {},
   "outputs": [],
   "source": [
    "def preprocess_text(text):\n",
    "    lang = detect(text)\n",
    "    if lang != \"en\":\n",
    "        try:\n",
    "            translated = GoogleTranslator(source=lang, target=\"en\").translate(text)\n",
    "            return translated, lang\n",
    "        except Exception as e:\n",
    "            print(f\"Error traduciendo: {e}\")\n",
    "            return text, lang\n",
    "    return text, lang"
   ]
  },
  {
   "cell_type": "code",
   "execution_count": 72,
   "id": "7ab0c601",
   "metadata": {},
   "outputs": [
    {
     "name": "stdout",
     "output_type": "stream",
     "text": [
      "Idioma original: en\n",
      "Texto procesado: Congratulations! You've won a free ticket.\n",
      "\n",
      "Idioma original: es\n",
      "Texto procesado: Congratulations! You have won a free ticket.\n",
      "\n",
      "Idioma original: fr\n",
      "Texto procesado: Congratulations ! You have won a free ticket.\n",
      "\n"
     ]
    }
   ],
   "source": [
    "# Prueba del pipeline\n",
    "for text in sample_texts:\n",
    "    processed_text, detected_lang = preprocess_text(text)\n",
    "    print(f\"Idioma original: {detected_lang}\\nTexto procesado: {processed_text}\\n\")"
   ]
  },
  {
   "cell_type": "markdown",
   "id": "998021cf",
   "metadata": {},
   "source": [
    "## Carga y preprocesamiento del dataset SpamAssassin\n",
    "\n",
    "Vamos a leer los emails de todas las carpetas spam y ham para construir un DataFrame con el texto y la etiqueta correspondiente."
   ]
  },
  {
   "cell_type": "code",
   "execution_count": 73,
   "id": "f89e03bc",
   "metadata": {},
   "outputs": [],
   "source": [
    "# Definir rutas y etiquetas\n",
    "folders = [\n",
    "    (\"../data/SpamAssassin/spam\", \"spam\"),\n",
    "    (\"../data/SpamAssassin/spam_2\", \"spam\"),\n",
    "    (\"../data/SpamAssassin/spam_2 2\", \"spam\"),\n",
    "    (\"../data/SpamAssassin/easy_ham\", \"ham\"),\n",
    "    (\"../data/SpamAssassin/easy_ham_2\", \"ham\"),\n",
    "    (\"../data/SpamAssassin/hard_ham\", \"ham\"),\n",
    "]"
   ]
  },
  {
   "cell_type": "code",
   "execution_count": 74,
   "id": "a21c9fd1",
   "metadata": {},
   "outputs": [],
   "source": [
    "# Función para cargar emails de varias carpetas\n",
    "def load_all_emails(folders):\n",
    "    emails = []\n",
    "    for folder, label in folders:\n",
    "        for filename in os.listdir(folder):\n",
    "            filepath = os.path.join(folder, filename)\n",
    "            if os.path.isfile(filepath):\n",
    "                with open(filepath, encoding=\"latin-1\") as f:\n",
    "                    content = f.read()\n",
    "                    emails.append({\"text\": content, \"label\": label})\n",
    "    return emails"
   ]
  },
  {
   "cell_type": "code",
   "execution_count": 75,
   "id": "c4f8fc75",
   "metadata": {},
   "outputs": [],
   "source": [
    "# Cargar todos los emails\n",
    "all_emails = load_all_emails(folders)\n",
    "df = pd.DataFrame(all_emails)\n",
    "df = df.sample(frac=1, random_state=42).reset_index(drop=True)  # Mezclar"
   ]
  },
  {
   "cell_type": "code",
   "execution_count": 76,
   "id": "e425e066",
   "metadata": {},
   "outputs": [
    {
     "name": "stdout",
     "output_type": "stream",
     "text": [
      "text     0\n",
      "label    0\n",
      "dtype: int64\n"
     ]
    }
   ],
   "source": [
    "print(df.isna().sum())"
   ]
  },
  {
   "cell_type": "code",
   "execution_count": 77,
   "id": "0ce3893e",
   "metadata": {},
   "outputs": [
    {
     "data": {
      "text/plain": [
       "(label\n",
       " ham     4153\n",
       " spam    3296\n",
       " Name: count, dtype: int64,\n",
       "                                                 text label\n",
       " 0  From amc@insurancemail.net  Mon Jun 24 17:08:1...  spam\n",
       " 1  From ilug-admin@linux.ie  Fri Aug 16 15:02:00 ...   ham\n",
       " 2  From renturrell22@netscape.net  Wed Jul 31 05:...  spam\n",
       " 3  From gvyandreamadison55382@hotmail.com  Mon Ju...  spam\n",
       " 4  Received: from marge.expeditus.co.uk ([213.52....  spam)"
      ]
     },
     "execution_count": 77,
     "metadata": {},
     "output_type": "execute_result"
    }
   ],
   "source": [
    "# Vista previa\n",
    "df['label'].value_counts(), df.head()"
   ]
  },
  {
   "cell_type": "markdown",
   "id": "d1774f27",
   "metadata": {},
   "source": [
    "## Extracción y limpieza del cuerpo del email\n",
    "\n",
    "Para preparar los datos y entrenar un filtro de spam eficaz, es importante trabajar solo con el texto relevante de cada email. Los correos electrónicos suelen tener dos partes principales:\n",
    "\n",
    "- **Headers**: información técnica como remitente, destinatario, asunto, fechas, etc.\n",
    "- **Cuerpo**: el contenido real del mensaje.\n",
    "\n",
    "En este proyecto, utilizamos una función que:\n",
    "1. Separa automáticamente los headers del cuerpo, quedándonos solo con el texto del mensaje.\n",
    "2. Elimina posibles firmas automáticas que suelen comenzar con dos guiones (`--`).\n",
    "3. Elimina URLs y espacios extra para limpiar el texto.\n",
    "\n",
    "Esta limpieza es suficiente para la mayoría de los emails del dataset SpamAssassin, ya que están en formato texto plano. Así, el modelo podrá centrarse en el contenido real del mensaje y no en información irrelevante.\n",
    "\n",
    ">**Nota:** Si en el futuro se quiere ampliar la limpieza (por ejemplo, para eliminar HTML, procesar adjuntos o eliminar respuestas encadenadas), se pueden añadir pasos adicionales."
   ]
  },
  {
   "cell_type": "code",
   "execution_count": 78,
   "id": "eb09ce92",
   "metadata": {},
   "outputs": [],
   "source": [
    "def extract_email_body(raw_email):\n",
    "    # Separar headers del cuerpo (los headers terminan en la primera línea vacía)\n",
    "    parts = raw_email.split('\\n\\n', 1)\n",
    "    body = parts[1] if len(parts) > 1 else parts[0]\n",
    "    # Eliminar líneas típicas de firmas automáticas\n",
    "    body = re.sub(r'(--\\s*[\\r\\n].*)', '', body, flags=re.DOTALL)\n",
    "    # Eliminar URLs y exceso de espacios\n",
    "    body = re.sub(r'http\\S+', '', body)\n",
    "    body = re.sub(r'\\s+', ' ', body)\n",
    "    return body.strip()"
   ]
  },
  {
   "cell_type": "code",
   "execution_count": 79,
   "id": "84fb8e18",
   "metadata": {},
   "outputs": [],
   "source": [
    "# Aplicar a todos los emails\n",
    "df['body'] = df['text'].apply(extract_email_body)"
   ]
  },
  {
   "cell_type": "code",
   "execution_count": 80,
   "id": "30d3ac86",
   "metadata": {},
   "outputs": [
    {
     "data": {
      "text/html": [
       "<div>\n",
       "<style scoped>\n",
       "    .dataframe tbody tr th:only-of-type {\n",
       "        vertical-align: middle;\n",
       "    }\n",
       "\n",
       "    .dataframe tbody tr th {\n",
       "        vertical-align: top;\n",
       "    }\n",
       "\n",
       "    .dataframe thead th {\n",
       "        text-align: right;\n",
       "    }\n",
       "</style>\n",
       "<table border=\"1\" class=\"dataframe\">\n",
       "  <thead>\n",
       "    <tr style=\"text-align: right;\">\n",
       "      <th></th>\n",
       "      <th>label</th>\n",
       "      <th>body</th>\n",
       "    </tr>\n",
       "  </thead>\n",
       "  <tbody>\n",
       "    <tr>\n",
       "      <th>0</th>\n",
       "      <td>spam</td>\n",
       "      <td>This is a multi-part message in MIME format. -...</td>\n",
       "    </tr>\n",
       "    <tr>\n",
       "      <th>1</th>\n",
       "      <td>ham</td>\n",
       "      <td>wintermute wrote: &gt;&gt;Anyone know where in Irela...</td>\n",
       "    </tr>\n",
       "    <tr>\n",
       "      <th>2</th>\n",
       "      <td>spam</td>\n",
       "      <td>Opportunity is knocking. Why? Because mortgage...</td>\n",
       "    </tr>\n",
       "    <tr>\n",
       "      <th>3</th>\n",
       "      <td>spam</td>\n",
       "      <td>We are desperately looking for 100 lazy people...</td>\n",
       "    </tr>\n",
       "    <tr>\n",
       "      <th>4</th>\n",
       "      <td>spam</td>\n",
       "      <td>If Amateurs is what you want, Then we Have the...</td>\n",
       "    </tr>\n",
       "  </tbody>\n",
       "</table>\n",
       "</div>"
      ],
      "text/plain": [
       "  label                                               body\n",
       "0  spam  This is a multi-part message in MIME format. -...\n",
       "1   ham  wintermute wrote: >>Anyone know where in Irela...\n",
       "2  spam  Opportunity is knocking. Why? Because mortgage...\n",
       "3  spam  We are desperately looking for 100 lazy people...\n",
       "4  spam  If Amateurs is what you want, Then we Have the..."
      ]
     },
     "execution_count": 80,
     "metadata": {},
     "output_type": "execute_result"
    }
   ],
   "source": [
    "# Vista previa\n",
    "df[['label', 'body']].head()"
   ]
  },
  {
   "cell_type": "code",
   "execution_count": 81,
   "id": "5e42f26c",
   "metadata": {},
   "outputs": [
    {
     "name": "stdout",
     "output_type": "stream",
     "text": [
      "['spam' 'ham']\n"
     ]
    }
   ],
   "source": [
    "print(df['label'].unique())"
   ]
  },
  {
   "cell_type": "code",
   "execution_count": 82,
   "id": "36e4ef2a",
   "metadata": {},
   "outputs": [
    {
     "name": "stdout",
     "output_type": "stream",
     "text": [
      "label\n",
      "0    4153\n",
      "1    3296\n",
      "Name: count, dtype: int64\n",
      "[1 0]\n"
     ]
    }
   ],
   "source": [
    "# codificamos las etiquetas\n",
    "df['label'] = df['label'].map({'ham': 0, 'spam': 1})\n",
    "print(df['label'].value_counts())\n",
    "print(df['label'].unique())"
   ]
  },
  {
   "cell_type": "markdown",
   "id": "b56591f5",
   "metadata": {},
   "source": [
    "## Selección de modelos clásicos: **Naive Bayes** y **SVM**\n",
    "\n",
    "Para abordar la detección de spam en emails, es fundamental comparar diferentes enfoques de machine learning. En este proyecto, hemos decidido entrenar y evaluar dos modelos clásicos ampliamente utilizados en la clasificación de texto:\n",
    "\n",
    "**1. Naive Bayes (MultinomialNB):**\n",
    "- Es el modelo de referencia tradicional para el filtrado de spam debido a su simplicidad, velocidad y eficacia en problemas de texto.\n",
    "- Asume independencia entre palabras, lo que, aunque no siempre es realista, funciona muy bien en la práctica para tareas como la detección de spam.\n",
    "- Es ideal como baseline para comparar con modelos más complejos.\n",
    "\n",
    "**2. Support Vector Machines (SVM):**\n",
    "- Es uno de los modelos clásicos más potentes para clasificación de texto, capaz de encontrar fronteras complejas entre clases.\n",
    "- Es robusto ante la alta dimensionalidad de los datos textuales y suele ofrecer un rendimiento superior a modelos más simples.\n",
    "- Requiere mayor ajuste de hiperparámetros y es más costoso computacionalmente, pero es un estándar en problemas de NLP clásicos.\n",
    "\n",
    "**Justificación de la elección:**\n",
    "- Ambos modelos son ampliamente reconocidos y aceptados en la literatura y la industria para tareas de clasificación de texto.\n",
    "- Nos permiten comparar rapidez, facilidad de entrenamiento y rendimiento.\n",
    "- Servirán como punto de partida para comparar con modelos más avanzados (como los basados en Transformers) en fases posteriores del proyecto."
   ]
  },
  {
   "cell_type": "markdown",
   "id": "7038362d",
   "metadata": {},
   "source": [
    "## Entrenamiento y comparación automática de modelos clásicos\n",
    "\n",
    "Para hacer una comparación justa y eficiente, creamos una función que entrena ambos modelos (**Naive Bayes** y **SVM**) sobre los mismos datos y muestra las métricas clave de cada uno. Así podemos ver fácilmente cuál se comporta mejor en nuestro problema de detección de spam."
   ]
  },
  {
   "cell_type": "code",
   "execution_count": 83,
   "id": "497db0bd",
   "metadata": {},
   "outputs": [],
   "source": [
    "def train_and_compare_models(X_train_vec, X_test_vec, y_train, y_test):\n",
    "    models = {\n",
    "        \"Naive Bayes\": MultinomialNB(),\n",
    "        \"SVM (LinearSVC)\": LinearSVC(max_iter=10000,)\n",
    "    }\n",
    "    results = {}\n",
    "    for name, model in models.items():\n",
    "        model.fit(X_train_vec, y_train)\n",
    "        y_pred = model.predict(X_test_vec)\n",
    "        acc = accuracy_score(y_test, y_pred)\n",
    "        print(f\"\\n=== {name} ===\")\n",
    "        print(f\"Accuracy: {acc:.4f}\")\n",
    "        print(classification_report(y_test, y_pred))\n",
    "        results[name] = acc\n",
    "    return results"
   ]
  },
  {
   "cell_type": "markdown",
   "id": "f09ab4d5",
   "metadata": {},
   "source": [
    "## División del dataset y entrenamiento del modelo **Naive Bayes**\n",
    "\n",
    "Dividimos el dataset en conjuntos de entrenamiento y prueba. Después, vectorizamos el texto usando **TF-IDF** y entrenamos un modelo Naive Bayes para establecer un baseline de rendimiento en la detección de spam."
   ]
  },
  {
   "cell_type": "code",
   "execution_count": 84,
   "id": "429384e3",
   "metadata": {},
   "outputs": [],
   "source": [
    "# División en train/test\n",
    "X_train, X_test, y_train, y_test = train_test_split(\n",
    "    df['body'], df['label'], test_size=0.2, random_state=42, stratify=df['label']\n",
    ")"
   ]
  },
  {
   "cell_type": "code",
   "execution_count": 85,
   "id": "f21c3404",
   "metadata": {},
   "outputs": [],
   "source": [
    "# Vectorización TF-IDF\n",
    "vectorizer = TfidfVectorizer(stop_words='english', max_features=5000)\n",
    "X_train_vec = vectorizer.fit_transform(X_train)\n",
    "X_test_vec = vectorizer.transform(X_test)"
   ]
  },
  {
   "cell_type": "code",
   "execution_count": 86,
   "id": "3a3a4278",
   "metadata": {},
   "outputs": [
    {
     "name": "stdout",
     "output_type": "stream",
     "text": [
      "\n",
      "=== Naive Bayes ===\n",
      "Accuracy: 0.9510\n",
      "              precision    recall  f1-score   support\n",
      "\n",
      "           0       0.96      0.95      0.96       831\n",
      "           1       0.94      0.95      0.95       659\n",
      "\n",
      "    accuracy                           0.95      1490\n",
      "   macro avg       0.95      0.95      0.95      1490\n",
      "weighted avg       0.95      0.95      0.95      1490\n",
      "\n",
      "\n",
      "=== SVM (LinearSVC) ===\n",
      "Accuracy: 0.9832\n",
      "              precision    recall  f1-score   support\n",
      "\n",
      "           0       0.98      0.99      0.98       831\n",
      "           1       0.98      0.98      0.98       659\n",
      "\n",
      "    accuracy                           0.98      1490\n",
      "   macro avg       0.98      0.98      0.98      1490\n",
      "weighted avg       0.98      0.98      0.98      1490\n",
      "\n"
     ]
    }
   ],
   "source": [
    "# Entrenamos ambos modelos y comparamos\n",
    "results = train_and_compare_models(X_train_vec, X_test_vec, y_train, y_test)"
   ]
  },
  {
   "cell_type": "markdown",
   "id": "18594eec",
   "metadata": {},
   "source": [
    "## Visualización de la comparación de modelos\n",
    "\n",
    "Para facilitar la interpretación de los resultados, mostramos la precisión (accuracy) de cada modelo en una tabla y en un gráfico de barras."
   ]
  },
  {
   "cell_type": "code",
   "execution_count": 87,
   "id": "37803155",
   "metadata": {},
   "outputs": [
    {
     "data": {
      "text/html": [
       "<div>\n",
       "<style scoped>\n",
       "    .dataframe tbody tr th:only-of-type {\n",
       "        vertical-align: middle;\n",
       "    }\n",
       "\n",
       "    .dataframe tbody tr th {\n",
       "        vertical-align: top;\n",
       "    }\n",
       "\n",
       "    .dataframe thead th {\n",
       "        text-align: right;\n",
       "    }\n",
       "</style>\n",
       "<table border=\"1\" class=\"dataframe\">\n",
       "  <thead>\n",
       "    <tr style=\"text-align: right;\">\n",
       "      <th></th>\n",
       "      <th>Modelo</th>\n",
       "      <th>Accuracy</th>\n",
       "    </tr>\n",
       "  </thead>\n",
       "  <tbody>\n",
       "    <tr>\n",
       "      <th>0</th>\n",
       "      <td>Naive Bayes</td>\n",
       "      <td>0.951007</td>\n",
       "    </tr>\n",
       "    <tr>\n",
       "      <th>1</th>\n",
       "      <td>SVM (LinearSVC)</td>\n",
       "      <td>0.983221</td>\n",
       "    </tr>\n",
       "  </tbody>\n",
       "</table>\n",
       "</div>"
      ],
      "text/plain": [
       "            Modelo  Accuracy\n",
       "0      Naive Bayes  0.951007\n",
       "1  SVM (LinearSVC)  0.983221"
      ]
     },
     "metadata": {},
     "output_type": "display_data"
    },
    {
     "data": {
      "image/png": "[encoded data removed]",
      "text/plain": [
       "<Figure size 600x400 with 1 Axes>"
      ]
     },
     "metadata": {},
     "output_type": "display_data"
    }
   ],
   "source": [
    "import pandas as pd\n",
    "\n",
    "\n",
    "# Crear DataFrame con los resultados\n",
    "results_df = pd.DataFrame(list(results.items()), columns=['Modelo', 'Accuracy'])\n",
    "\n",
    "# Mostrar tabla\n",
    "display(results_df)\n",
    "\n",
    "# Gráfico de barras\n",
    "plt.figure(figsize=(6,4))\n",
    "plt.bar(results_df['Modelo'], results_df['Accuracy'], color=['skyblue', 'salmon'])\n",
    "plt.ylim(0.9, 1.0)\n",
    "plt.ylabel('Accuracy')\n",
    "plt.title('Comparativa de modelos clásicos')\n",
    "plt.show()"
   ]
  },
  {
   "cell_type": "markdown",
   "id": "08980f8c",
   "metadata": {},
   "source": [
    "## Entrenamiento de una red neuronal usando **embeddings** (GloVe)\n",
    "\n",
    "En vez de representar los emails como vectores dispersos (*TF-IDF*), vamos a usar **embeddings preentrenados de GloVe**. Así, cada palabra se representa como un vector denso que captura su significado y contexto.\n",
    "\n",
    "**Ventajas de los embeddings:**\n",
    "- Capturan relaciones semánticas y contexto entre palabras.\n",
    "- Permiten a la red neuronal generalizar mejor ante expresiones poco frecuentes o sinónimos.\n",
    "\n",
    "**Pasos principales:**\n",
    "1. **Tokenización** y conversión de los emails a secuencias de índices.\n",
    "2. **Carga de embeddings GloVe** preentrenados.\n",
    "3. **Construcción de la matriz de embeddings** para nuestro vocabulario.\n",
    "4. **Entrenamiento de una red neuronal secuencial** (LSTM) sobre las secuencias de embeddings.\n",
    "5. **Comparación del rendimiento** con los modelos clásicos."
   ]
  },
  {
   "cell_type": "code",
   "execution_count": 88,
   "id": "c11ae86a",
   "metadata": {},
   "outputs": [],
   "source": [
    "# 1. Tokenización y secuenciado\n",
    "max_words = 10000\n",
    "max_len = 100\n",
    "\n",
    "tokenizer = Tokenizer(num_words=max_words, oov_token=\"<OOV>\")\n",
    "tokenizer.fit_on_texts(X_train)\n",
    "X_train_seq = tokenizer.texts_to_sequences(X_train)\n",
    "X_test_seq = tokenizer.texts_to_sequences(X_test)\n",
    "X_train_pad = pad_sequences(X_train_seq, maxlen=max_len, padding='post')\n",
    "X_test_pad = pad_sequences(X_test_seq, maxlen=max_len, padding='post')"
   ]
  },
  {
   "cell_type": "code",
   "execution_count": 89,
   "id": "e72cf039",
   "metadata": {},
   "outputs": [],
   "source": [
    "# 2. Cargar embeddings GloVe (descargar si no lo tienes)\n",
    "\n",
    "# Ruta y nombre del archivo\n",
    "\n",
    "# glove_url = \"http://nlp.stanford.edu/data/glove.6B.zip\"\n",
    "# glove_zip_path = \"../data/glove.6B.zip\"\n",
    "# glove_dir = \"../data/\"\n",
    "\n",
    "# # Descargar si no existe\n",
    "# if not os.path.exists(glove_zip_path):\n",
    "#     print(\"Descargando GloVe...\")\n",
    "#     response = requests.get(glove_url, stream=True)\n",
    "#     total_size = int(response.headers.get('content-length', 0))\n",
    "#     block_size = 1024  # 1 KB\n",
    "#     with open(glove_zip_path, \"wb\") as f, tqdm(\n",
    "#         desc=\"Descargando\",\n",
    "#         total=total_size,\n",
    "#         unit='B',\n",
    "#         unit_scale=True,\n",
    "#         unit_divisor=1024,\n",
    "#     ) as bar:\n",
    "#         for data in response.iter_content(block_size):\n",
    "#             f.write(data)\n",
    "#             bar.update(len(data))\n",
    "#     print(\"Descarga completada.\")\n",
    "\n",
    "# # Descomprimir si no está descomprimido\n",
    "# if not os.path.exists(os.path.join(glove_dir, \"glove.6B.100d.txt\")):\n",
    "#     print(\"Descomprimiendo GloVe...\")\n",
    "#     with zipfile.ZipFile(glove_zip_path, \"r\") as zip_ref:\n",
    "#         zip_ref.extractall(glove_dir)\n",
    "#     print(\"Descompresión completada.\")\n"
   ]
  },
  {
   "cell_type": "code",
   "execution_count": 90,
   "id": "f40fc666",
   "metadata": {},
   "outputs": [],
   "source": [
    "# Cargar embeddings GloVe\n",
    "embedding_dim = 100\n",
    "embedding_index = {}\n",
    "with open(\"../data/glove.6B.100d.txt\", encoding=\"utf8\") as f:\n",
    "    for line in f:\n",
    "        values = line.split()\n",
    "        word = values[0]\n",
    "        vector = np.asarray(values[1:], dtype='float32')\n",
    "        embedding_index[word] = vector"
   ]
  },
  {
   "cell_type": "code",
   "execution_count": 91,
   "id": "88f17714",
   "metadata": {},
   "outputs": [],
   "source": [
    "# 3. Crear la matriz de embeddings\n",
    "word_index = tokenizer.word_index\n",
    "num_words = min(max_words, len(word_index) + 1)\n",
    "embedding_matrix = np.zeros((num_words, embedding_dim))\n",
    "for word, i in word_index.items():\n",
    "    if i < num_words:\n",
    "        embedding_vector = embedding_index.get(word)\n",
    "        if embedding_vector is not None:\n",
    "            embedding_matrix[i] = embedding_vector"
   ]
  },
  {
   "cell_type": "code",
   "execution_count": 92,
   "id": "b4654cc1",
   "metadata": {},
   "outputs": [],
   "source": [
    "# 4. Construir la red neuronal (LSTM sencilla)\n",
    "from tensorflow.keras.models import Sequential\n",
    "from tensorflow.keras.layers import Embedding, LSTM, Dense, Dropout\n",
    "\n",
    "model = Sequential([\n",
    "    Embedding(num_words, embedding_dim, weights=[embedding_matrix], trainable=True),\n",
    "    LSTM(64, dropout=0.2, recurrent_dropout=0.2),\n",
    "    Dense(1, activation='sigmoid')\n",
    "])\n",
    "\n",
    "model.compile(optimizer='adam', loss='binary_crossentropy', metrics=['accuracy'])"
   ]
  },
  {
   "cell_type": "code",
   "execution_count": 93,
   "id": "a46a77b7",
   "metadata": {},
   "outputs": [],
   "source": [
    "# callbacks:\n",
    "\n",
    "early_stop = EarlyStopping(\n",
    "    monitor='val_loss',      # Monitoriza la pérdida de validación\n",
    "    patience=3,              # Número de épocas sin mejora antes de parar\n",
    "    restore_best_weights=True\n",
    ")\n",
    "\n",
    "\n",
    "reduce_lr = ReduceLROnPlateau(\n",
    "    monitor='val_loss',      # Monitoriza la pérdida de validación\n",
    "    factor=0.5,              # Reduce el learning rate a la mitad\n",
    "    patience=2,              # Número de épocas sin mejora antes de reducir\n",
    "    min_lr=1e-6,             # Learning rate mínimo\n",
    "    verbose=1\n",
    ")\n"
   ]
  },
  {
   "cell_type": "code",
   "execution_count": 94,
   "id": "de49cdc1",
   "metadata": {},
   "outputs": [
    {
     "name": "stdout",
     "output_type": "stream",
     "text": [
      "Epoch 1/50\n",
      "94/94 - 12s - 122ms/step - accuracy: 0.8067 - loss: 0.4368 - val_accuracy: 0.9228 - val_loss: 0.2299 - learning_rate: 1.0000e-03\n",
      "Epoch 2/50\n",
      "94/94 - 10s - 107ms/step - accuracy: 0.9225 - loss: 0.2355 - val_accuracy: 0.9322 - val_loss: 0.2010 - learning_rate: 1.0000e-03\n",
      "Epoch 3/50\n",
      "94/94 - 11s - 116ms/step - accuracy: 0.9231 - loss: 0.2312 - val_accuracy: 0.9436 - val_loss: 0.1854 - learning_rate: 1.0000e-03\n",
      "Epoch 4/50\n",
      "94/94 - 10s - 110ms/step - accuracy: 0.9418 - loss: 0.1814 - val_accuracy: 0.9275 - val_loss: 0.2079 - learning_rate: 1.0000e-03\n",
      "Epoch 5/50\n",
      "94/94 - 10s - 103ms/step - accuracy: 0.9476 - loss: 0.1593 - val_accuracy: 0.9369 - val_loss: 0.1851 - learning_rate: 1.0000e-03\n",
      "Epoch 6/50\n",
      "94/94 - 10s - 103ms/step - accuracy: 0.9596 - loss: 0.1378 - val_accuracy: 0.9577 - val_loss: 0.1385 - learning_rate: 1.0000e-03\n",
      "Epoch 7/50\n",
      "94/94 - 10s - 102ms/step - accuracy: 0.9594 - loss: 0.1281 - val_accuracy: 0.9557 - val_loss: 0.1286 - learning_rate: 1.0000e-03\n",
      "Epoch 8/50\n",
      "94/94 - 10s - 103ms/step - accuracy: 0.9659 - loss: 0.1093 - val_accuracy: 0.9604 - val_loss: 0.1268 - learning_rate: 1.0000e-03\n",
      "Epoch 9/50\n",
      "94/94 - 10s - 103ms/step - accuracy: 0.9693 - loss: 0.0989 - val_accuracy: 0.9638 - val_loss: 0.1188 - learning_rate: 1.0000e-03\n",
      "Epoch 10/50\n",
      "94/94 - 10s - 105ms/step - accuracy: 0.9730 - loss: 0.0832 - val_accuracy: 0.9651 - val_loss: 0.0986 - learning_rate: 1.0000e-03\n",
      "Epoch 11/50\n",
      "94/94 - 10s - 103ms/step - accuracy: 0.9745 - loss: 0.0782 - val_accuracy: 0.9664 - val_loss: 0.1025 - learning_rate: 1.0000e-03\n",
      "Epoch 12/50\n",
      "94/94 - 10s - 104ms/step - accuracy: 0.9775 - loss: 0.0637 - val_accuracy: 0.9758 - val_loss: 0.0728 - learning_rate: 1.0000e-03\n",
      "Epoch 13/50\n",
      "94/94 - 10s - 106ms/step - accuracy: 0.9740 - loss: 0.0699 - val_accuracy: 0.9658 - val_loss: 0.1156 - learning_rate: 1.0000e-03\n",
      "Epoch 14/50\n",
      "\n",
      "Epoch 14: ReduceLROnPlateau reducing learning rate to 0.0005000000237487257.\n",
      "94/94 - 10s - 102ms/step - accuracy: 0.9772 - loss: 0.0627 - val_accuracy: 0.9752 - val_loss: 0.0755 - learning_rate: 1.0000e-03\n",
      "Epoch 15/50\n",
      "94/94 - 10s - 104ms/step - accuracy: 0.9842 - loss: 0.0431 - val_accuracy: 0.9738 - val_loss: 0.0845 - learning_rate: 5.0000e-04\n"
     ]
    }
   ],
   "source": [
    "# 5. Entrenar la red\n",
    "history = model.fit(\n",
    "    X_train_pad, y_train,\n",
    "    epochs=50, \n",
    "    batch_size=64,\n",
    "    validation_data=(X_test_pad, y_test),\n",
    "    callbacks=[early_stop, reduce_lr],\n",
    "    verbose=2\n",
    ")"
   ]
  },
  {
   "cell_type": "markdown",
   "id": "8acb4130",
   "metadata": {},
   "source": [
    "## Visualización de curvas de entrenamiento y guardado del modelo\n",
    "\n",
    "Una vez entrenado el modelo, es fundamental visualizar la evolución de la precisión y la pérdida para detectar posibles problemas de sobreajuste o underfitting. Además, guardamos tanto el modelo como el historial de entrenamiento para poder reutilizarlos o analizar los resultados en el futuro."
   ]
  },
  {
   "cell_type": "code",
   "execution_count": 95,
   "id": "0cefce8c",
   "metadata": {},
   "outputs": [],
   "source": [
    "# Visualización de las curvas de entrenamiento\n",
    "def plot_history(history):\n",
    "    plt.figure(figsize=(12, 5))\n",
    "    \n",
    "    # Accuracy\n",
    "    plt.subplot(1, 2, 1)\n",
    "    plt.plot(history.history['accuracy'], label='Entrenamiento')\n",
    "    plt.plot(history.history['val_accuracy'], label='Validación')\n",
    "    plt.title('Precisión (accuracy)')\n",
    "    plt.xlabel('Época')\n",
    "    plt.ylabel('Precisión')\n",
    "    plt.legend()\n",
    "    \n",
    "    # Loss\n",
    "    plt.subplot(1, 2, 2)\n",
    "    plt.plot(history.history['loss'], label='Entrenamiento')\n",
    "    plt.plot(history.history['val_loss'], label='Validación')\n",
    "    plt.title('Pérdida (loss)')\n",
    "    plt.xlabel('Época')\n",
    "    plt.ylabel('Pérdida')\n",
    "    plt.legend()\n",
    "    \n",
    "    plt.tight_layout()\n",
    "    plt.show()"
   ]
  },
  {
   "cell_type": "code",
   "execution_count": 96,
   "id": "34c828a8",
   "metadata": {},
   "outputs": [
    {
     "data": {
      "image/png": "[encoded data removed]",
      "text/plain": [
       "<Figure size 1200x500 with 2 Axes>"
      ]
     },
     "metadata": {},
     "output_type": "display_data"
    }
   ],
   "source": [
    "plot_history(history)"
   ]
  },
  {
   "cell_type": "markdown",
   "id": "d8f40c82",
   "metadata": {},
   "source": [
    "## Conclusiones del entrenamiento\n",
    "\n",
    "- **Evolución del modelo:**  \n",
    "  Las gráficas muestran una mejora progresiva tanto en la precisión como en la pérdida durante las primeras épocas, lo que indica que el modelo está aprendiendo correctamente a distinguir entre spam y no spam.\n",
    "\n",
    "- **Comparación entrenamiento vs. validación:**  \n",
    "  La precisión en validación sigue de cerca a la de entrenamiento y no se observa un sobreajuste significativo, ya que ambas curvas mantienen una tendencia similar. Esto sugiere que el modelo generaliza bien sobre datos no vistos.\n",
    "\n",
    "- **Estabilidad:**  \n",
    "  A partir de la época 10-12, la mejora se ralentiza y las curvas tienden a estabilizarse, lo que indica que el modelo ha alcanzado un punto óptimo de aprendizaje para este conjunto de datos.\n",
    "\n",
    "\n",
    "- **Resultado:**  \n",
    "  El modelo entrenado con embeddings preentrenados y LSTM ofrece un rendimiento sólido y competitivo para la tarea de filtrado de spam multilingüe.\n"
   ]
  },
  {
   "cell_type": "code",
   "execution_count": 97,
   "id": "ba4a4868",
   "metadata": {},
   "outputs": [],
   "source": [
    "# Guardar el modelo entrenado\n",
    "model.save(\"modelo_spam_multilingue.keras\")\n",
    "\n",
    "# Guardar el objeto history (con pickle)\n",
    "with open(\"history_spam.pkl\", \"wb\") as f:\n",
    "    pickle.dump(history.history, f)"
   ]
  },
  {
   "cell_type": "markdown",
   "id": "ce777879",
   "metadata": {},
   "source": [
    "## Entrenamiento de una red neuronal **CNN 1D** sobre embeddings\n",
    "\n",
    "Las redes convolucionales 1D (CNN) son muy eficaces para clasificación de texto, ya que detectan patrones locales (n-gramas) característicos de mensajes de spam. Además, suelen entrenar más rápido que las LSTM y pueden superar su rendimiento en tareas de clasificación de emails o SMS.\n",
    "\n",
    "A continuación, implementamos y entrenamos una CNN 1D utilizando los mismos embeddings preentrenados de GloVe."
   ]
  },
  {
   "cell_type": "code",
   "execution_count": 98,
   "id": "b5d25059",
   "metadata": {},
   "outputs": [],
   "source": [
    "# Definición del modelo CNN 1D\n",
    "cnn_model = Sequential([\n",
    "    Embedding(num_words, embedding_dim, weights=[embedding_matrix], trainable=True),\n",
    "    Conv1D(128, 5, activation='relu'),\n",
    "    GlobalMaxPooling1D(),\n",
    "    Dropout(0.3),\n",
    "    Dense(64, activation='relu'),\n",
    "    Dropout(0.2),\n",
    "    Dense(1, activation='sigmoid')\n",
    "])\n",
    "\n",
    "cnn_model.compile(optimizer='adam',\n",
    "                    loss='binary_crossentropy',\n",
    "                    metrics=['accuracy'])"
   ]
  },
  {
   "cell_type": "code",
   "execution_count": null,
   "id": "b773f69c",
   "metadata": {},
   "outputs": [],
   "source": []
  },
  {
   "cell_type": "code",
   "execution_count": 99,
   "id": "72036238",
   "metadata": {},
   "outputs": [
    {
     "name": "stdout",
     "output_type": "stream",
     "text": [
      "Epoch 1/20\n",
      "94/94 - 3s - 28ms/step - accuracy: 0.8429 - loss: 0.3586 - val_accuracy: 0.9396 - val_loss: 0.1423 - learning_rate: 1.0000e-03\n",
      "Epoch 2/20\n",
      "94/94 - 2s - 25ms/step - accuracy: 0.9601 - loss: 0.1150 - val_accuracy: 0.9698 - val_loss: 0.0844 - learning_rate: 1.0000e-03\n",
      "Epoch 3/20\n",
      "94/94 - 4s - 43ms/step - accuracy: 0.9832 - loss: 0.0552 - val_accuracy: 0.9758 - val_loss: 0.0772 - learning_rate: 1.0000e-03\n",
      "Epoch 4/20\n",
      "94/94 - 5s - 49ms/step - accuracy: 0.9909 - loss: 0.0308 - val_accuracy: 0.9765 - val_loss: 0.0629 - learning_rate: 1.0000e-03\n",
      "Epoch 5/20\n",
      "94/94 - 4s - 44ms/step - accuracy: 0.9928 - loss: 0.0207 - val_accuracy: 0.9785 - val_loss: 0.0850 - learning_rate: 1.0000e-03\n",
      "Epoch 6/20\n",
      "\n",
      "Epoch 6: ReduceLROnPlateau reducing learning rate to 0.0005000000237487257.\n",
      "94/94 - 5s - 53ms/step - accuracy: 0.9950 - loss: 0.0150 - val_accuracy: 0.9765 - val_loss: 0.0709 - learning_rate: 1.0000e-03\n",
      "Epoch 7/20\n",
      "94/94 - 7s - 74ms/step - accuracy: 0.9966 - loss: 0.0116 - val_accuracy: 0.9785 - val_loss: 0.0730 - learning_rate: 5.0000e-04\n"
     ]
    }
   ],
   "source": [
    "# Entrenamiento\n",
    "cnn_history = cnn_model.fit(\n",
    "    X_train_pad, y_train,\n",
    "    epochs=20,\n",
    "    batch_size=64,\n",
    "    validation_data=(X_test_pad, y_test),\n",
    "    callbacks=[early_stop, reduce_lr],\n",
    "    verbose=2\n",
    ")"
   ]
  },
  {
   "cell_type": "code",
   "execution_count": 100,
   "id": "c12103a0",
   "metadata": {},
   "outputs": [
    {
     "data": {
      "image/png": "[encoded data removed]",
      "text/plain": [
       "<Figure size 1200x500 with 2 Axes>"
      ]
     },
     "metadata": {},
     "output_type": "display_data"
    }
   ],
   "source": [
    "plot_history(cnn_history)"
   ]
  },
  {
   "cell_type": "code",
   "execution_count": 101,
   "id": "64bdba98",
   "metadata": {},
   "outputs": [
    {
     "name": "stdout",
     "output_type": "stream",
     "text": [
      "Matriz de confusión:\n",
      " [[819  12]\n",
      " [ 13 646]]\n"
     ]
    }
   ],
   "source": [
    "from sklearn.metrics import confusion_matrix\n",
    "\n",
    "# Predicciones del mejor modelo clásico (SVM)\n",
    "y_pred = LinearSVC(max_iter=10000).fit(X_train_vec, y_train).predict(X_test_vec)\n",
    "\n",
    "# Matriz de confusión\n",
    "cm = confusion_matrix(y_test, y_pred)\n",
    "print(\"Matriz de confusión:\\n\", cm)"
   ]
  },
  {
   "cell_type": "markdown",
   "id": "000a7bf6",
   "metadata": {},
   "source": [
    "## Conclusiones: Comparativa CNN 1D vs. LSTM\n",
    "\n",
    "- **Precisión y pérdida:**  \n",
    "  La CNN 1D ha alcanzado una precisión de validación superior a la obtenida con la LSTM y ha convergido más rápido, logrando muy buenos resultados en pocas épocas.\n",
    "\n",
    "- **Velocidad de entrenamiento:**  \n",
    "  La CNN 1D ha necesitado menos épocas para estabilizarse y ha mostrado una curva de aprendizaje más pronunciada, lo que indica que aprende patrones relevantes de manera muy eficiente.\n",
    "\n",
    "- **Generalización:**  \n",
    "  No se observa sobreajuste significativo: la precisión de validación se mantiene cercana a la de entrenamiento y la pérdida de validación es baja y estable.\n",
    "\n",
    "- **Interpretación:**  \n",
    "  En tareas de clasificación de texto como el filtrado de spam, donde los patrones locales (n-gramas, frases típicas) son clave, la CNN 1D suele superar a la LSTM, especialmente en textos de longitud moderada o corta como emails y SMS.\n",
    "\n",
    "\n",
    "**Conclusión:**  \n",
    "La CNN 1D es altamente competitiva para el filtrado de spam textual y puede ser preferible a la LSTM en muchos escenarios prácticos."
   ]
  },
  {
   "cell_type": "code",
   "execution_count": 102,
   "id": "2a793b9f",
   "metadata": {},
   "outputs": [],
   "source": [
    "# Guardar el modelo entrenado\n",
    "model.save(\"modelo_cnn_spam_multilingue.keras\")\n",
    "\n",
    "# Guardar el objeto history (con pickle)\n",
    "with open(\"cnn_history_spam.pkl\", \"wb\") as f:\n",
    "    pickle.dump(history.history, f)"
   ]
  },
  {
   "cell_type": "code",
   "execution_count": 103,
   "id": "32c2f222",
   "metadata": {},
   "outputs": [
    {
     "name": "stdout",
     "output_type": "stream",
     "text": [
      "\u001b[1m1/1\u001b[0m \u001b[32m━━━━━━━━━━━━━━━━━━━━\u001b[0m\u001b[37m\u001b[0m \u001b[1m1s\u001b[0m 512ms/step\n",
      "Texto original: You have been selected to receive a free prize.\n",
      "Idioma detectado: en\n",
      "Texto traducido/procesado: You have been selected to receive a free prize.\n",
      "Predicción: No spam\n",
      "--------------------------------------------------\n",
      "\u001b[1m1/1\u001b[0m \u001b[32m━━━━━━━━━━━━━━━━━━━━\u001b[0m\u001b[37m\u001b[0m \u001b[1m0s\u001b[0m 68ms/step\n",
      "Texto original: Act now to claim your $1000 reward.\n",
      "Idioma detectado: en\n",
      "Texto traducido/procesado: Act now to claim your $1000 reward.\n",
      "Predicción: Spam\n",
      "--------------------------------------------------\n",
      "\u001b[1m1/1\u001b[0m \u001b[32m━━━━━━━━━━━━━━━━━━━━\u001b[0m\u001b[37m\u001b[0m \u001b[1m0s\u001b[0m 85ms/step\n",
      "Texto original: This is not a scam! You won the lottery.\n",
      "Idioma detectado: en\n",
      "Texto traducido/procesado: This is not a scam! You won the lottery.\n",
      "Predicción: No spam\n",
      "--------------------------------------------------\n",
      "\u001b[1m1/1\u001b[0m \u001b[32m━━━━━━━━━━━━━━━━━━━━\u001b[0m\u001b[37m\u001b[0m \u001b[1m0s\u001b[0m 57ms/step\n",
      "Texto original: Click here to verify your account and receive money.\n",
      "Idioma detectado: en\n",
      "Texto traducido/procesado: Click here to verify your account and receive money.\n",
      "Predicción: Spam\n",
      "--------------------------------------------------\n",
      "\u001b[1m1/1\u001b[0m \u001b[32m━━━━━━━━━━━━━━━━━━━━\u001b[0m\u001b[37m\u001b[0m \u001b[1m0s\u001b[0m 88ms/step\n",
      "Texto original: Earn cash working from home. No experience needed.\n",
      "Idioma detectado: en\n",
      "Texto traducido/procesado: Earn cash working from home. No experience needed.\n",
      "Predicción: Spam\n",
      "--------------------------------------------------\n",
      "\u001b[1m1/1\u001b[0m \u001b[32m━━━━━━━━━━━━━━━━━━━━\u001b[0m\u001b[37m\u001b[0m \u001b[1m0s\u001b[0m 99ms/step\n",
      "Texto original: Win a free vacation to the Bahamas. Limited time offer.\n",
      "Idioma detectado: en\n",
      "Texto traducido/procesado: Win a free vacation to the Bahamas. Limited time offer.\n",
      "Predicción: Spam\n",
      "--------------------------------------------------\n",
      "\u001b[1m1/1\u001b[0m \u001b[32m━━━━━━━━━━━━━━━━━━━━\u001b[0m\u001b[37m\u001b[0m \u001b[1m0s\u001b[0m 49ms/step\n",
      "Texto original: Your account has been compromised. Log in immediately.\n",
      "Idioma detectado: en\n",
      "Texto traducido/procesado: Your account has been compromised. Log in immediately.\n",
      "Predicción: No spam\n",
      "--------------------------------------------------\n",
      "\u001b[1m1/1\u001b[0m \u001b[32m━━━━━━━━━━━━━━━━━━━━\u001b[0m\u001b[37m\u001b[0m \u001b[1m0s\u001b[0m 48ms/step\n",
      "Texto original: Get rich quick! Just follow this link.\n",
      "Idioma detectado: en\n",
      "Texto traducido/procesado: Get rich quick! Just follow this link.\n",
      "Predicción: No spam\n",
      "--------------------------------------------------\n",
      "\u001b[1m1/1\u001b[0m \u001b[32m━━━━━━━━━━━━━━━━━━━━\u001b[0m\u001b[37m\u001b[0m \u001b[1m0s\u001b[0m 33ms/step\n",
      "Texto original: Haz clic aquí para reclamar tu premio gratuito.\n",
      "Idioma detectado: ca\n",
      "Texto traducido/procesado: HAZ Click here to claim you FREE PRIZE.\n",
      "Predicción: No spam\n",
      "--------------------------------------------------\n",
      "\u001b[1m1/1\u001b[0m \u001b[32m━━━━━━━━━━━━━━━━━━━━\u001b[0m\u001b[37m\u001b[0m \u001b[1m0s\u001b[0m 53ms/step\n",
      "Texto original: Has sido seleccionado para ganar dinero en casa.\n",
      "Idioma detectado: es\n",
      "Texto traducido/procesado: You have been selected to earn money at home.\n",
      "Predicción: No spam\n",
      "--------------------------------------------------\n",
      "\u001b[1m1/1\u001b[0m \u001b[32m━━━━━━━━━━━━━━━━━━━━\u001b[0m\u001b[37m\u001b[0m \u001b[1m0s\u001b[0m 31ms/step\n",
      "Texto original: ¡Gana un viaje a Cancún haciendo clic en este enlace!\n",
      "Idioma detectado: es\n",
      "Texto traducido/procesado: Win a trip to Cancun by clicking on this link!\n",
      "Predicción: No spam\n",
      "--------------------------------------------------\n",
      "\u001b[1m1/1\u001b[0m \u001b[32m━━━━━━━━━━━━━━━━━━━━\u001b[0m\u001b[37m\u001b[0m \u001b[1m0s\u001b[0m 29ms/step\n",
      "Texto original: Tu cuenta ha sido bloqueada. Verifica tus datos ahora.\n",
      "Idioma detectado: pt\n",
      "Texto traducido/procesado: You have been blocked. Checks TUS dates ahora.\n",
      "Predicción: No spam\n",
      "--------------------------------------------------\n",
      "\u001b[1m1/1\u001b[0m \u001b[32m━━━━━━━━━━━━━━━━━━━━\u001b[0m\u001b[37m\u001b[0m \u001b[1m0s\u001b[0m 32ms/step\n",
      "Texto original: Esta es tu última oportunidad de obtener un iPhone gratis.\n",
      "Idioma detectado: es\n",
      "Texto traducido/procesado: This is your last chance to get a free iPhone.\n",
      "Predicción: No spam\n",
      "--------------------------------------------------\n",
      "\u001b[1m1/1\u001b[0m \u001b[32m━━━━━━━━━━━━━━━━━━━━\u001b[0m\u001b[37m\u001b[0m \u001b[1m0s\u001b[0m 29ms/step\n",
      "Texto original: Félicitations ! Vous avez gagné une carte cadeau gratuite.\n",
      "Idioma detectado: fr\n",
      "Texto traducido/procesado: Congratulations ! You have won a free gift card.\n",
      "Predicción: Spam\n",
      "--------------------------------------------------\n",
      "\u001b[1m1/1\u001b[0m \u001b[32m━━━━━━━━━━━━━━━━━━━━\u001b[0m\u001b[37m\u001b[0m \u001b[1m0s\u001b[0m 31ms/step\n",
      "Texto original: Votre compte a été suspendu. Cliquez ici pour le récupérer.\n",
      "Idioma detectado: fr\n",
      "Texto traducido/procesado: Your account has been suspended. Click here to recover it.\n",
      "Predicción: No spam\n",
      "--------------------------------------------------\n",
      "\u001b[1m1/1\u001b[0m \u001b[32m━━━━━━━━━━━━━━━━━━━━\u001b[0m\u001b[37m\u001b[0m \u001b[1m0s\u001b[0m 30ms/step\n",
      "Texto original: Cliquez ici pour recevoir votre prix exclusif maintenant.\n",
      "Idioma detectado: fr\n",
      "Texto traducido/procesado: Click here to receive your exclusive prize now.\n",
      "Predicción: Spam\n",
      "--------------------------------------------------\n",
      "\u001b[1m1/1\u001b[0m \u001b[32m━━━━━━━━━━━━━━━━━━━━\u001b[0m\u001b[37m\u001b[0m \u001b[1m0s\u001b[0m 30ms/step\n",
      "Texto original: Buy now and get 90% off!\n",
      "Idioma detectado: en\n",
      "Texto traducido/procesado: Buy now and get 90% off!\n",
      "Predicción: No spam\n",
      "--------------------------------------------------\n",
      "\u001b[1m1/1\u001b[0m \u001b[32m━━━━━━━━━━━━━━━━━━━━\u001b[0m\u001b[37m\u001b[0m \u001b[1m0s\u001b[0m 29ms/step\n",
      "Texto original: Final notice: Your subscription will expire. Renew now.\n",
      "Idioma detectado: en\n",
      "Texto traducido/procesado: Final notice: Your subscription will expire. Renew now.\n",
      "Predicción: Spam\n",
      "--------------------------------------------------\n",
      "\u001b[1m1/1\u001b[0m \u001b[32m━━━━━━━━━━━━━━━━━━━━\u001b[0m\u001b[37m\u001b[0m \u001b[1m0s\u001b[0m 29ms/step\n",
      "Texto original: This message is to confirm your $500 deposit.\n",
      "Idioma detectado: en\n",
      "Texto traducido/procesado: This message is to confirm your $500 deposit.\n",
      "Predicción: Spam\n",
      "--------------------------------------------------\n"
     ]
    }
   ],
   "source": [
    "# Ejemplo de uso del modelo entrenado\n",
    "from tensorflow.keras.models import load_model\n",
    "\n",
    "loaded_model = load_model(\"../models/modelo_cnn_spam_multilingue.keras\")\n",
    "\n",
    "ejemplos = [\n",
    "    # Inglés - Estilo clásico y moderno\n",
    "    \"You have been selected to receive a free prize.\",\n",
    "    \"Act now to claim your $1000 reward.\",\n",
    "    \"This is not a scam! You won the lottery.\",\n",
    "    \"Click here to verify your account and receive money.\",\n",
    "    \"Earn cash working from home. No experience needed.\",\n",
    "    \"Win a free vacation to the Bahamas. Limited time offer.\",\n",
    "    \"Your account has been compromised. Log in immediately.\",\n",
    "    \"Get rich quick! Just follow this link.\",\n",
    "    \n",
    "    # Español - frases spam habituales y vocabulario reconocible\n",
    "    \"Haz clic aquí para reclamar tu premio gratuito.\",\n",
    "    \"Has sido seleccionado para ganar dinero en casa.\",\n",
    "    \"¡Gana un viaje a Cancún haciendo clic en este enlace!\",\n",
    "    \"Tu cuenta ha sido bloqueada. Verifica tus datos ahora.\",\n",
    "    \"Esta es tu última oportunidad de obtener un iPhone gratis.\",\n",
    "    \n",
    "    # Francés - frases adaptadas que conservan estructura típica spam\n",
    "    \"Félicitations ! Vous avez gagné une carte cadeau gratuite.\",\n",
    "    \"Votre compte a été suspendu. Cliquez ici pour le récupérer.\",\n",
    "    \"Cliquez ici pour recevoir votre prix exclusif maintenant.\",\n",
    "    \n",
    "    # Extra agresivos y generalizables\n",
    "    \"Buy now and get 90% off!\",\n",
    "    \"Final notice: Your subscription will expire. Renew now.\",\n",
    "    \"This message is to confirm your $500 deposit.\"\n",
    "]\n",
    "\n",
    "\n",
    "for texto in ejemplos:\n",
    "    texto_procesado, idioma = preprocess_text(texto)\n",
    "    \n",
    "    # Tokenizar y padear correctamente\n",
    "    secuencia = tokenizer.texts_to_sequences([texto_procesado])\n",
    "    secuencia_pad = pad_sequences(secuencia, maxlen=max_len, padding='post')\n",
    "\n",
    "    # Predicción\n",
    "    prediccion = loaded_model.predict(secuencia_pad)[0][0]\n",
    "\n",
    "    print(f\"Texto original: {texto}\")\n",
    "    print(f\"Idioma detectado: {idioma}\")\n",
    "    print(f\"Texto traducido/procesado: {texto_procesado}\")\n",
    "    print(f\"Predicción: {'Spam' if prediccion > 0.5 else 'No spam'}\")\n",
    "    print(\"-\" * 50)"
   ]
  },
  {
   "cell_type": "code",
   "execution_count": null,
   "id": "1ff23a6b",
   "metadata": {},
   "outputs": [],
   "source": []
  },
  {
   "cell_type": "markdown",
   "id": "5b88d445",
   "metadata": {},
   "source": [
    "## Despliegue y pruebas de la API de detección de spam multilingüe\n",
    "\n",
    "### Justificación: ¿Por qué usar modelos preentrenados?\n",
    "\n",
    "Hoy en día, la mayoría de soluciones de NLP profesionales y de investigación se basan en modelos preentrenados (como BERT y variantes) disponibles en plataformas como Hugging Face.  \n",
    "Esto permite:\n",
    "- Aprovechar el conocimiento de grandes corpus sin necesidad de entrenar desde cero.\n",
    "- Reducir el tiempo de desarrollo y recursos computacionales.\n",
    "- Obtener resultados de estado del arte con mínimo esfuerzo.\n",
    "- Facilitar la integración y despliegue en proyectos reales (APIs, microservicios, etc.).\n",
    "\n",
    "En este proyecto, hemos utilizado un modelo BERT preentrenado y ajustado para detección de spam en emails, integrándolo en una API moderna y multilingüe.\n",
    "\n",
    "---\n",
    "\n",
    "### Cómo probar la API en local\n",
    "\n",
    "1. **Instala las dependencias necesarias**"
   ]
  },
  {
   "cell_type": "code",
   "execution_count": 104,
   "id": "a185e046",
   "metadata": {},
   "outputs": [],
   "source": [
    "#!pip install -r requirements.txt"
   ]
  },
  {
   "cell_type": "markdown",
   "id": "ba6f94e9",
   "metadata": {},
   "source": [
    "\n",
    "2. **Ejecuta la API FastAPI**"
   ]
  },
  {
   "cell_type": "markdown",
   "id": "dbb7895c",
   "metadata": {},
   "source": [
    "```python\n",
    "uvicorn src.api_spam_multilingual:app --reload\n",
    "```\n",
    "La API estará disponible en [http://127.0.0.1:8000/docs](http://127.0.0.1:8000/docs) (Swagger UI interactivo)."
   ]
  },
  {
   "cell_type": "markdown",
   "id": "2c6ffc75",
   "metadata": {},
   "source": [
    "3. **Ejemplo de petición desde Python**"
   ]
  },
  {
   "cell_type": "code",
   "execution_count": null,
   "id": "9fb2d927",
   "metadata": {},
   "outputs": [],
   "source": [
    "import requests\n",
    "\n",
    "   data = {\"text\": \"¡Felicidades! Has ganado un iPhone gratis. Haz clic aquí para reclamar tu premio.\"}\n",
    "   response = requests.post(\"[http://127.0.0.1](http://127.0.0.1):8000/predict\", json=data)\n",
    "   print(response.json())"
   ]
  },
  {
   "cell_type": "code",
   "execution_count": 107,
   "id": "c8241798",
   "metadata": {},
   "outputs": [
    {
     "name": "stdout",
     "output_type": "stream",
     "text": [
      "Requirement already satisfied: langdetect in /opt/miniconda3/envs/bootcamp_env/lib/python3.10/site-packages (1.0.9)\n",
      "Requirement already satisfied: deep-translator in /opt/miniconda3/envs/bootcamp_env/lib/python3.10/site-packages (1.11.4)\n",
      "Requirement already satisfied: six in /opt/miniconda3/envs/bootcamp_env/lib/python3.10/site-packages (from langdetect) (1.17.0)\n",
      "Requirement already satisfied: beautifulsoup4<5.0.0,>=4.9.1 in /opt/miniconda3/envs/bootcamp_env/lib/python3.10/site-packages (from deep-translator) (4.13.4)\n",
      "Requirement already satisfied: requests<3.0.0,>=2.23.0 in /opt/miniconda3/envs/bootcamp_env/lib/python3.10/site-packages (from deep-translator) (2.32.4)\n",
      "Requirement already satisfied: soupsieve>1.2 in /opt/miniconda3/envs/bootcamp_env/lib/python3.10/site-packages (from beautifulsoup4<5.0.0,>=4.9.1->deep-translator) (2.7)\n",
      "Requirement already satisfied: typing-extensions>=4.0.0 in /opt/miniconda3/envs/bootcamp_env/lib/python3.10/site-packages (from beautifulsoup4<5.0.0,>=4.9.1->deep-translator) (4.14.0)\n",
      "Requirement already satisfied: charset_normalizer<4,>=2 in /opt/miniconda3/envs/bootcamp_env/lib/python3.10/site-packages (from requests<3.0.0,>=2.23.0->deep-translator) (3.4.2)\n",
      "Requirement already satisfied: idna<4,>=2.5 in /opt/miniconda3/envs/bootcamp_env/lib/python3.10/site-packages (from requests<3.0.0,>=2.23.0->deep-translator) (2.10)\n",
      "Requirement already satisfied: urllib3<3,>=1.21.1 in /opt/miniconda3/envs/bootcamp_env/lib/python3.10/site-packages (from requests<3.0.0,>=2.23.0->deep-translator) (2.5.0)\n",
      "Requirement already satisfied: certifi>=2017.4.17 in /opt/miniconda3/envs/bootcamp_env/lib/python3.10/site-packages (from requests<3.0.0,>=2.23.0->deep-translator) (2025.6.15)\n"
     ]
    }
   ],
   "source": [
    "!pip install langdetect deep-translator"
   ]
  },
  {
   "cell_type": "markdown",
   "id": "ef971d4a",
   "metadata": {},
   "source": []
  },
  {
   "cell_type": "code",
   "execution_count": null,
   "id": "28d30d9e",
   "metadata": {},
   "outputs": [],
   "source": []
  }
 ],
 "metadata": {
  "kernelspec": {
   "display_name": "bootcamp_env",
   "language": "python",
   "name": "python3"
  },
  "language_info": {
   "codemirror_mode": {
    "name": "ipython",
    "version": 3
   },
   "file_extension": ".py",
   "mimetype": "text/x-python",
   "name": "python",
   "nbconvert_exporter": "python",
   "pygments_lexer": "ipython3",
   "version": "3.10.18"
  }
 },
 "nbformat": 4,
 "nbformat_minor": 5
}
