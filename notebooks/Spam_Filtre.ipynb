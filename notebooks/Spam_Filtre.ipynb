{
 "cells": [
  {
   "cell_type": "markdown",
   "id": "22930ec1",
   "metadata": {},
   "source": [
    "# Filtro de Spam Multilingüe\n",
    "Este notebook muestra paso a paso cómo construir un filtro de spam funcional capaz de trabajar con varios idiomas. \n",
    "Incluye detección automática de idioma, traducción al inglés si es necesario y un pipeline básico para clasificación."
   ]
  },
  {
   "cell_type": "code",
   "execution_count": 38,
   "id": "b012657d",
   "metadata": {},
   "outputs": [],
   "source": [
    "# Importación de librerías necesarias\n",
    "from langdetect import detect\n",
    "from googletrans import Translator\n",
    "\n",
    "import os\n",
    "import pandas as pd\n",
    "import zipfile\n",
    "import requests\n",
    "from tqdm.notebook import tqdm\n",
    "\n",
    "\n",
    "import re\n",
    "\n",
    "from sklearn.model_selection import train_test_split\n",
    "from sklearn.feature_extraction.text import TfidfVectorizer\n",
    "from sklearn.naive_bayes import MultinomialNB\n",
    "from sklearn.svm import LinearSVC\n",
    "from sklearn.metrics import classification_report, confusion_matrix,accuracy_score\n",
    "\n",
    "import matplotlib.pyplot as plt\n",
    "\n",
    "import tensorflow as tf\n",
    "from tensorflow.keras.preprocessing.text import Tokenizer\n",
    "from tensorflow.keras.preprocessing.sequence import pad_sequences\n",
    "\n"
   ]
  },
  {
   "cell_type": "markdown",
   "id": "068abc8c",
   "metadata": {},
   "source": [
    "## Detección de idioma\n",
    "\n",
    "Usaremos la librería `langdetect` para identificar automáticamente el idioma de cada mensaje."
   ]
  },
  {
   "cell_type": "code",
   "execution_count": 3,
   "id": "b62a20f5",
   "metadata": {},
   "outputs": [
    {
     "name": "stdout",
     "output_type": "stream",
     "text": [
      "Texto: Congratulations! You've won a free ticket.\n",
      "Idioma detectado: en\n",
      "\n",
      "Texto: ¡Felicidades! Has ganado una entrada gratis.\n",
      "Idioma detectado: es\n",
      "\n",
      "Texto: Félicitations ! Vous avez gagné un billet gratuit.\n",
      "Idioma detectado: fr\n",
      "\n"
     ]
    }
   ],
   "source": [
    "# Ejemplo de detección de idioma\n",
    "sample_texts = [\n",
    "    \"Congratulations! You've won a free ticket.\",\n",
    "    \"¡Felicidades! Has ganado una entrada gratis.\",\n",
    "    \"Félicitations ! Vous avez gagné un billet gratuit.\"\n",
    "]\n",
    "\n",
    "for text in sample_texts:\n",
    "    lang = detect(text)\n",
    "    print(f\"Texto: {text}\\nIdioma detectado: {lang}\\n\")"
   ]
  },
  {
   "cell_type": "markdown",
   "id": "2bc753cd",
   "metadata": {},
   "source": [
    "## Traducción automática\n",
    "\n",
    "Si el idioma detectado no es inglés, traduciremos el texto usando `googletrans`."
   ]
  },
  {
   "cell_type": "code",
   "execution_count": 4,
   "id": "882de60d",
   "metadata": {},
   "outputs": [
    {
     "name": "stdout",
     "output_type": "stream",
     "text": [
      "Original (ya en inglés): Congratulations! You've won a free ticket.\n",
      "\n",
      "Original: ¡Felicidades! Has ganado una entrada gratis.\n",
      "Traducido: Congratulations!Has ganado una entrada gratis.\n",
      "\n",
      "Original: Félicitations ! Vous avez gagné un billet gratuit.\n",
      "Traducido: Congratulations !You have won a free ticket.\n",
      "\n"
     ]
    }
   ],
   "source": [
    "# Ejemplo de traducción automática\n",
    "translator = Translator()\n",
    "\n",
    "for text in sample_texts:\n",
    "    lang = detect(text)\n",
    "    if lang != \"en\":\n",
    "        translated = translator.translate(text, src=lang, dest=\"en\")\n",
    "        print(f\"Original: {text}\\nTraducido: {translated.text}\\n\")\n",
    "    else:\n",
    "        print(f\"Original (ya en inglés): {text}\\n\")"
   ]
  },
  {
   "cell_type": "markdown",
   "id": "a92679d6",
   "metadata": {},
   "source": [
    "## Pipeline: Detección de idioma y traducción\n",
    "\n",
    "Función que detecta el idioma y traduce al inglés si es necesario."
   ]
  },
  {
   "cell_type": "code",
   "execution_count": 6,
   "id": "fba50dc7",
   "metadata": {},
   "outputs": [],
   "source": [
    "def preprocess_text(text):\n",
    "    lang = detect(text)\n",
    "    if lang != \"en\":\n",
    "        translated = translator.translate(text, src=lang, dest=\"en\")\n",
    "        return translated.text, lang\n",
    "    return text, lang"
   ]
  },
  {
   "cell_type": "code",
   "execution_count": 7,
   "id": "7ab0c601",
   "metadata": {},
   "outputs": [
    {
     "name": "stdout",
     "output_type": "stream",
     "text": [
      "Idioma original: en\n",
      "Texto procesado: Congratulations! You've won a free ticket.\n",
      "\n",
      "Idioma original: es\n",
      "Texto procesado: Congratulations!You have won a free ticket.\n",
      "\n",
      "Idioma original: fr\n",
      "Texto procesado: Congratulations !You have won a free ticket.\n",
      "\n"
     ]
    }
   ],
   "source": [
    "# Prueba del pipeline\n",
    "for text in sample_texts:\n",
    "    processed_text, detected_lang = preprocess_text(text)\n",
    "    print(f\"Idioma original: {detected_lang}\\nTexto procesado: {processed_text}\\n\")"
   ]
  },
  {
   "cell_type": "markdown",
   "id": "998021cf",
   "metadata": {},
   "source": [
    "## Carga y preprocesamiento del dataset SpamAssassin\n",
    "\n",
    "Vamos a leer los emails de todas las carpetas spam y ham para construir un DataFrame con el texto y la etiqueta correspondiente."
   ]
  },
  {
   "cell_type": "code",
   "execution_count": 8,
   "id": "f89e03bc",
   "metadata": {},
   "outputs": [],
   "source": [
    "# Definir rutas y etiquetas\n",
    "folders = [\n",
    "    (\"../data/SpamAssassin/spam\", \"spam\"),\n",
    "    (\"../data/SpamAssassin/spam_2\", \"spam\"),\n",
    "    (\"../data/SpamAssassin/spam_2 2\", \"spam\"),\n",
    "    (\"../data/SpamAssassin/easy_ham\", \"ham\"),\n",
    "    (\"../data/SpamAssassin/easy_ham_2\", \"ham\"),\n",
    "    (\"../data/SpamAssassin/hard_ham\", \"ham\"),\n",
    "]"
   ]
  },
  {
   "cell_type": "code",
   "execution_count": 9,
   "id": "a21c9fd1",
   "metadata": {},
   "outputs": [],
   "source": [
    "# Función para cargar emails de varias carpetas\n",
    "def load_all_emails(folders):\n",
    "    emails = []\n",
    "    for folder, label in folders:\n",
    "        for filename in os.listdir(folder):\n",
    "            filepath = os.path.join(folder, filename)\n",
    "            if os.path.isfile(filepath):\n",
    "                with open(filepath, encoding=\"latin-1\") as f:\n",
    "                    content = f.read()\n",
    "                    emails.append({\"text\": content, \"label\": label})\n",
    "    return emails"
   ]
  },
  {
   "cell_type": "code",
   "execution_count": 14,
   "id": "c4f8fc75",
   "metadata": {},
   "outputs": [],
   "source": [
    "# Cargar todos los emails\n",
    "all_emails = load_all_emails(folders)\n",
    "df = pd.DataFrame(all_emails)\n",
    "df = df.sample(frac=1, random_state=42).reset_index(drop=True)  # Mezclar"
   ]
  },
  {
   "cell_type": "code",
   "execution_count": 15,
   "id": "0ce3893e",
   "metadata": {},
   "outputs": [
    {
     "data": {
      "text/plain": [
       "(label\n",
       " ham     4153\n",
       " spam    3296\n",
       " Name: count, dtype: int64,\n",
       "                                                 text label\n",
       " 0  From amc@insurancemail.net  Mon Jun 24 17:08:1...  spam\n",
       " 1  From ilug-admin@linux.ie  Fri Aug 16 15:02:00 ...   ham\n",
       " 2  From renturrell22@netscape.net  Wed Jul 31 05:...  spam\n",
       " 3  From gvyandreamadison55382@hotmail.com  Mon Ju...  spam\n",
       " 4  Received: from marge.expeditus.co.uk ([213.52....  spam)"
      ]
     },
     "execution_count": 15,
     "metadata": {},
     "output_type": "execute_result"
    }
   ],
   "source": [
    "# Vista previa\n",
    "df['label'].value_counts(), df.head()"
   ]
  },
  {
   "cell_type": "markdown",
   "id": "d1774f27",
   "metadata": {},
   "source": [
    "## Extracción y limpieza del cuerpo del email\n",
    "\n",
    "Para preparar los datos y entrenar un filtro de spam eficaz, es importante trabajar solo con el texto relevante de cada email. Los correos electrónicos suelen tener dos partes principales:\n",
    "\n",
    "- **Headers**: información técnica como remitente, destinatario, asunto, fechas, etc.\n",
    "- **Cuerpo**: el contenido real del mensaje.\n",
    "\n",
    "En este proyecto, utilizamos una función que:\n",
    "1. Separa automáticamente los headers del cuerpo, quedándonos solo con el texto del mensaje.\n",
    "2. Elimina posibles firmas automáticas que suelen comenzar con dos guiones (`--`).\n",
    "3. Elimina URLs y espacios extra para limpiar el texto.\n",
    "\n",
    "Esta limpieza es suficiente para la mayoría de los emails del dataset SpamAssassin, ya que están en formato texto plano. Así, el modelo podrá centrarse en el contenido real del mensaje y no en información irrelevante.\n",
    "\n",
    ">**Nota:** Si en el futuro se quiere ampliar la limpieza (por ejemplo, para eliminar HTML, procesar adjuntos o eliminar respuestas encadenadas), se pueden añadir pasos adicionales."
   ]
  },
  {
   "cell_type": "code",
   "execution_count": 17,
   "id": "eb09ce92",
   "metadata": {},
   "outputs": [],
   "source": [
    "def extract_email_body(raw_email):\n",
    "    # Separar headers del cuerpo (los headers terminan en la primera línea vacía)\n",
    "    parts = raw_email.split('\\n\\n', 1)\n",
    "    body = parts[1] if len(parts) > 1 else parts[0]\n",
    "    # Eliminar líneas típicas de firmas automáticas\n",
    "    body = re.sub(r'(--\\s*[\\r\\n].*)', '', body, flags=re.DOTALL)\n",
    "    # Eliminar URLs y exceso de espacios\n",
    "    body = re.sub(r'http\\S+', '', body)\n",
    "    body = re.sub(r'\\s+', ' ', body)\n",
    "    return body.strip()"
   ]
  },
  {
   "cell_type": "code",
   "execution_count": 18,
   "id": "84fb8e18",
   "metadata": {},
   "outputs": [],
   "source": [
    "# Aplicar a todos los emails\n",
    "df['body'] = df['text'].apply(extract_email_body)"
   ]
  },
  {
   "cell_type": "code",
   "execution_count": 19,
   "id": "30d3ac86",
   "metadata": {},
   "outputs": [
    {
     "data": {
      "text/html": [
       "<div>\n",
       "<style scoped>\n",
       "    .dataframe tbody tr th:only-of-type {\n",
       "        vertical-align: middle;\n",
       "    }\n",
       "\n",
       "    .dataframe tbody tr th {\n",
       "        vertical-align: top;\n",
       "    }\n",
       "\n",
       "    .dataframe thead th {\n",
       "        text-align: right;\n",
       "    }\n",
       "</style>\n",
       "<table border=\"1\" class=\"dataframe\">\n",
       "  <thead>\n",
       "    <tr style=\"text-align: right;\">\n",
       "      <th></th>\n",
       "      <th>label</th>\n",
       "      <th>body</th>\n",
       "    </tr>\n",
       "  </thead>\n",
       "  <tbody>\n",
       "    <tr>\n",
       "      <th>0</th>\n",
       "      <td>spam</td>\n",
       "      <td>This is a multi-part message in MIME format. -...</td>\n",
       "    </tr>\n",
       "    <tr>\n",
       "      <th>1</th>\n",
       "      <td>ham</td>\n",
       "      <td>wintermute wrote: &gt;&gt;Anyone know where in Irela...</td>\n",
       "    </tr>\n",
       "    <tr>\n",
       "      <th>2</th>\n",
       "      <td>spam</td>\n",
       "      <td>Opportunity is knocking. Why? Because mortgage...</td>\n",
       "    </tr>\n",
       "    <tr>\n",
       "      <th>3</th>\n",
       "      <td>spam</td>\n",
       "      <td>We are desperately looking for 100 lazy people...</td>\n",
       "    </tr>\n",
       "    <tr>\n",
       "      <th>4</th>\n",
       "      <td>spam</td>\n",
       "      <td>If Amateurs is what you want, Then we Have the...</td>\n",
       "    </tr>\n",
       "  </tbody>\n",
       "</table>\n",
       "</div>"
      ],
      "text/plain": [
       "  label                                               body\n",
       "0  spam  This is a multi-part message in MIME format. -...\n",
       "1   ham  wintermute wrote: >>Anyone know where in Irela...\n",
       "2  spam  Opportunity is knocking. Why? Because mortgage...\n",
       "3  spam  We are desperately looking for 100 lazy people...\n",
       "4  spam  If Amateurs is what you want, Then we Have the..."
      ]
     },
     "execution_count": 19,
     "metadata": {},
     "output_type": "execute_result"
    }
   ],
   "source": [
    "# Vista previa\n",
    "df[['label', 'body']].head()"
   ]
  },
  {
   "cell_type": "markdown",
   "id": "b56591f5",
   "metadata": {},
   "source": [
    "## Selección de modelos clásicos: **Naive Bayes** y **SVM**\n",
    "\n",
    "Para abordar la detección de spam en emails, es fundamental comparar diferentes enfoques de machine learning. En este proyecto, hemos decidido entrenar y evaluar dos modelos clásicos ampliamente utilizados en la clasificación de texto:\n",
    "\n",
    "**1. Naive Bayes (MultinomialNB):**\n",
    "- Es el modelo de referencia tradicional para el filtrado de spam debido a su simplicidad, velocidad y eficacia en problemas de texto.\n",
    "- Asume independencia entre palabras, lo que, aunque no siempre es realista, funciona muy bien en la práctica para tareas como la detección de spam.\n",
    "- Es ideal como baseline para comparar con modelos más complejos.\n",
    "\n",
    "**2. Support Vector Machines (SVM):**\n",
    "- Es uno de los modelos clásicos más potentes para clasificación de texto, capaz de encontrar fronteras complejas entre clases.\n",
    "- Es robusto ante la alta dimensionalidad de los datos textuales y suele ofrecer un rendimiento superior a modelos más simples.\n",
    "- Requiere mayor ajuste de hiperparámetros y es más costoso computacionalmente, pero es un estándar en problemas de NLP clásicos.\n",
    "\n",
    "**Justificación de la elección:**\n",
    "- Ambos modelos son ampliamente reconocidos y aceptados en la literatura y la industria para tareas de clasificación de texto.\n",
    "- Nos permiten comparar rapidez, facilidad de entrenamiento y rendimiento.\n",
    "- Servirán como punto de partida para comparar con modelos más avanzados (como los basados en Transformers) en fases posteriores del proyecto."
   ]
  },
  {
   "cell_type": "markdown",
   "id": "7038362d",
   "metadata": {},
   "source": [
    "## Entrenamiento y comparación automática de modelos clásicos\n",
    "\n",
    "Para hacer una comparación justa y eficiente, creamos una función que entrena ambos modelos (**Naive Bayes** y **SVM**) sobre los mismos datos y muestra las métricas clave de cada uno. Así podemos ver fácilmente cuál se comporta mejor en nuestro problema de detección de spam."
   ]
  },
  {
   "cell_type": "code",
   "execution_count": 26,
   "id": "497db0bd",
   "metadata": {},
   "outputs": [],
   "source": [
    "def train_and_compare_models(X_train_vec, X_test_vec, y_train, y_test):\n",
    "    models = {\n",
    "        \"Naive Bayes\": MultinomialNB(),\n",
    "        \"SVM (LinearSVC)\": LinearSVC(max_iter=10000)\n",
    "    }\n",
    "    results = {}\n",
    "    for name, model in models.items():\n",
    "        model.fit(X_train_vec, y_train)\n",
    "        y_pred = model.predict(X_test_vec)\n",
    "        acc = accuracy_score(y_test, y_pred)\n",
    "        print(f\"\\n=== {name} ===\")\n",
    "        print(f\"Accuracy: {acc:.4f}\")\n",
    "        print(classification_report(y_test, y_pred))\n",
    "        results[name] = acc\n",
    "    return results"
   ]
  },
  {
   "cell_type": "markdown",
   "id": "f09ab4d5",
   "metadata": {},
   "source": [
    "## División del dataset y entrenamiento del modelo **Naive Bayes**\n",
    "\n",
    "Dividimos el dataset en conjuntos de entrenamiento y prueba. Después, vectorizamos el texto usando **TF-IDF** y entrenamos un modelo Naive Bayes para establecer un baseline de rendimiento en la detección de spam."
   ]
  },
  {
   "cell_type": "code",
   "execution_count": 21,
   "id": "429384e3",
   "metadata": {},
   "outputs": [],
   "source": [
    "# División en train/test\n",
    "X_train, X_test, y_train, y_test = train_test_split(\n",
    "    df['body'], df['label'], test_size=0.2, random_state=42, stratify=df['label']\n",
    ")"
   ]
  },
  {
   "cell_type": "code",
   "execution_count": 22,
   "id": "f21c3404",
   "metadata": {},
   "outputs": [],
   "source": [
    "# Vectorización TF-IDF\n",
    "vectorizer = TfidfVectorizer(stop_words='english', max_features=5000)\n",
    "X_train_vec = vectorizer.fit_transform(X_train)\n",
    "X_test_vec = vectorizer.transform(X_test)"
   ]
  },
  {
   "cell_type": "code",
   "execution_count": 29,
   "id": "3a3a4278",
   "metadata": {},
   "outputs": [
    {
     "name": "stdout",
     "output_type": "stream",
     "text": [
      "\n",
      "=== Naive Bayes ===\n",
      "Accuracy: 0.9510\n",
      "              precision    recall  f1-score   support\n",
      "\n",
      "         ham       0.96      0.95      0.96       831\n",
      "        spam       0.94      0.95      0.95       659\n",
      "\n",
      "    accuracy                           0.95      1490\n",
      "   macro avg       0.95      0.95      0.95      1490\n",
      "weighted avg       0.95      0.95      0.95      1490\n",
      "\n",
      "\n",
      "=== SVM (LinearSVC) ===\n",
      "Accuracy: 0.9832\n",
      "              precision    recall  f1-score   support\n",
      "\n",
      "         ham       0.98      0.99      0.98       831\n",
      "        spam       0.98      0.98      0.98       659\n",
      "\n",
      "    accuracy                           0.98      1490\n",
      "   macro avg       0.98      0.98      0.98      1490\n",
      "weighted avg       0.98      0.98      0.98      1490\n",
      "\n"
     ]
    }
   ],
   "source": [
    "# Entrenamos ambos modelos y comparamos\n",
    "results = train_and_compare_models(X_train_vec, X_test_vec, y_train, y_test)"
   ]
  },
  {
   "cell_type": "markdown",
   "id": "18594eec",
   "metadata": {},
   "source": [
    "## Visualización de la comparación de modelos\n",
    "\n",
    "Para facilitar la interpretación de los resultados, mostramos la precisión (accuracy) de cada modelo en una tabla y en un gráfico de barras."
   ]
  },
  {
   "cell_type": "code",
   "execution_count": 31,
   "id": "37803155",
   "metadata": {},
   "outputs": [
    {
     "data": {
      "text/html": [
       "<div>\n",
       "<style scoped>\n",
       "    .dataframe tbody tr th:only-of-type {\n",
       "        vertical-align: middle;\n",
       "    }\n",
       "\n",
       "    .dataframe tbody tr th {\n",
       "        vertical-align: top;\n",
       "    }\n",
       "\n",
       "    .dataframe thead th {\n",
       "        text-align: right;\n",
       "    }\n",
       "</style>\n",
       "<table border=\"1\" class=\"dataframe\">\n",
       "  <thead>\n",
       "    <tr style=\"text-align: right;\">\n",
       "      <th></th>\n",
       "      <th>Modelo</th>\n",
       "      <th>Accuracy</th>\n",
       "    </tr>\n",
       "  </thead>\n",
       "  <tbody>\n",
       "    <tr>\n",
       "      <th>0</th>\n",
       "      <td>Naive Bayes</td>\n",
       "      <td>0.951007</td>\n",
       "    </tr>\n",
       "    <tr>\n",
       "      <th>1</th>\n",
       "      <td>SVM (LinearSVC)</td>\n",
       "      <td>0.983221</td>\n",
       "    </tr>\n",
       "  </tbody>\n",
       "</table>\n",
       "</div>"
      ],
      "text/plain": [
       "            Modelo  Accuracy\n",
       "0      Naive Bayes  0.951007\n",
       "1  SVM (LinearSVC)  0.983221"
      ]
     },
     "metadata": {},
     "output_type": "display_data"
    },
    {
     "data": {
      "image/png": "[encoded data removed]",
      "text/plain": [
       "<Figure size 600x400 with 1 Axes>"
      ]
     },
     "metadata": {},
     "output_type": "display_data"
    }
   ],
   "source": [
    "import pandas as pd\n",
    "\n",
    "\n",
    "# Crear DataFrame con los resultados\n",
    "results_df = pd.DataFrame(list(results.items()), columns=['Modelo', 'Accuracy'])\n",
    "\n",
    "# Mostrar tabla\n",
    "display(results_df)\n",
    "\n",
    "# Gráfico de barras\n",
    "plt.figure(figsize=(6,4))\n",
    "plt.bar(results_df['Modelo'], results_df['Accuracy'], color=['skyblue', 'salmon'])\n",
    "plt.ylim(0.9, 1.0)\n",
    "plt.ylabel('Accuracy')\n",
    "plt.title('Comparativa de modelos clásicos')\n",
    "plt.show()"
   ]
  },
  {
   "cell_type": "markdown",
   "id": "08980f8c",
   "metadata": {},
   "source": [
    "## Entrenamiento de una red neuronal usando **embeddings** (GloVe)\n",
    "\n",
    "En vez de representar los emails como vectores dispersos (*TF-IDF*), vamos a usar **embeddings preentrenados de GloVe**. Así, cada palabra se representa como un vector denso que captura su significado y contexto.\n",
    "\n",
    "**Ventajas de los embeddings:**\n",
    "- Capturan relaciones semánticas y contexto entre palabras.\n",
    "- Permiten a la red neuronal generalizar mejor ante expresiones poco frecuentes o sinónimos.\n",
    "\n",
    "**Pasos principales:**\n",
    "1. **Tokenización** y conversión de los emails a secuencias de índices.\n",
    "2. **Carga de embeddings GloVe** preentrenados.\n",
    "3. **Construcción de la matriz de embeddings** para nuestro vocabulario.\n",
    "4. **Entrenamiento de una red neuronal secuencial** (LSTM) sobre las secuencias de embeddings.\n",
    "5. **Comparación del rendimiento** con los modelos clásicos."
   ]
  },
  {
   "cell_type": "code",
   "execution_count": null,
   "id": "c11ae86a",
   "metadata": {},
   "outputs": [],
   "source": [
    "# 1. Tokenización y secuenciado\n",
    "max_words = 10000\n",
    "max_len = 100\n",
    "\n",
    "tokenizer = Tokenizer(num_words=max_words, oov_token=\"<OOV>\")\n",
    "tokenizer.fit_on_texts(X_train)\n",
    "X_train_seq = tokenizer.texts_to_sequences(X_train)\n",
    "X_test_seq = tokenizer.texts_to_sequences(X_test)\n",
    "X_train_pad = pad_sequences(X_train_seq, maxlen=max_len, padding='post')\n",
    "X_test_pad = pad_sequences(X_test_seq, maxlen=max_len, padding='post')"
   ]
  },
  {
   "cell_type": "code",
   "execution_count": 39,
   "id": "e72cf039",
   "metadata": {},
   "outputs": [
    {
     "name": "stdout",
     "output_type": "stream",
     "text": [
      "Descargando GloVe...\n"
     ]
    },
    {
     "data": {
      "application/vnd.jupyter.widget-view+json": {
       "model_id": "a9cfdb35d7e94096a9b09278943ce43c",
       "version_major": 2,
       "version_minor": 0
      },
      "text/plain": [
       "Descargando:   0%|          | 0.00/822M [00:00<?, ?B/s]"
      ]
     },
     "metadata": {},
     "output_type": "display_data"
    },
    {
     "ename": "KeyboardInterrupt",
     "evalue": "",
     "output_type": "error",
     "traceback": [
      "\u001b[0;31m---------------------------------------------------------------------------\u001b[0m",
      "\u001b[0;31mKeyboardInterrupt\u001b[0m                         Traceback (most recent call last)",
      "Cell \u001b[0;32mIn[39], line 21\u001b[0m\n\u001b[1;32m     13\u001b[0m block_size \u001b[38;5;241m=\u001b[39m \u001b[38;5;241m1024\u001b[39m  \u001b[38;5;66;03m# 1 KB\u001b[39;00m\n\u001b[1;32m     14\u001b[0m \u001b[38;5;28;01mwith\u001b[39;00m \u001b[38;5;28mopen\u001b[39m(glove_zip_path, \u001b[38;5;124m\"\u001b[39m\u001b[38;5;124mwb\u001b[39m\u001b[38;5;124m\"\u001b[39m) \u001b[38;5;28;01mas\u001b[39;00m f, tqdm(\n\u001b[1;32m     15\u001b[0m     desc\u001b[38;5;241m=\u001b[39m\u001b[38;5;124m\"\u001b[39m\u001b[38;5;124mDescargando\u001b[39m\u001b[38;5;124m\"\u001b[39m,\n\u001b[1;32m     16\u001b[0m     total\u001b[38;5;241m=\u001b[39mtotal_size,\n\u001b[0;32m   (...)\u001b[0m\n\u001b[1;32m     19\u001b[0m     unit_divisor\u001b[38;5;241m=\u001b[39m\u001b[38;5;241m1024\u001b[39m,\n\u001b[1;32m     20\u001b[0m ) \u001b[38;5;28;01mas\u001b[39;00m bar:\n\u001b[0;32m---> 21\u001b[0m     \u001b[38;5;28;01mfor\u001b[39;00m data \u001b[38;5;129;01min\u001b[39;00m response\u001b[38;5;241m.\u001b[39miter_content(block_size):\n\u001b[1;32m     22\u001b[0m         f\u001b[38;5;241m.\u001b[39mwrite(data)\n\u001b[1;32m     23\u001b[0m         bar\u001b[38;5;241m.\u001b[39mupdate(\u001b[38;5;28mlen\u001b[39m(data))\n",
      "File \u001b[0;32m/opt/miniconda3/envs/bootcamp_env/lib/python3.10/site-packages/requests/models.py:820\u001b[0m, in \u001b[0;36mResponse.iter_content.<locals>.generate\u001b[0;34m()\u001b[0m\n\u001b[1;32m    818\u001b[0m \u001b[38;5;28;01mif\u001b[39;00m \u001b[38;5;28mhasattr\u001b[39m(\u001b[38;5;28mself\u001b[39m\u001b[38;5;241m.\u001b[39mraw, \u001b[38;5;124m\"\u001b[39m\u001b[38;5;124mstream\u001b[39m\u001b[38;5;124m\"\u001b[39m):\n\u001b[1;32m    819\u001b[0m     \u001b[38;5;28;01mtry\u001b[39;00m:\n\u001b[0;32m--> 820\u001b[0m         \u001b[38;5;28;01myield from\u001b[39;00m \u001b[38;5;28mself\u001b[39m\u001b[38;5;241m.\u001b[39mraw\u001b[38;5;241m.\u001b[39mstream(chunk_size, decode_content\u001b[38;5;241m=\u001b[39m\u001b[38;5;28;01mTrue\u001b[39;00m)\n\u001b[1;32m    821\u001b[0m     \u001b[38;5;28;01mexcept\u001b[39;00m ProtocolError \u001b[38;5;28;01mas\u001b[39;00m e:\n\u001b[1;32m    822\u001b[0m         \u001b[38;5;28;01mraise\u001b[39;00m ChunkedEncodingError(e)\n",
      "File \u001b[0;32m/opt/miniconda3/envs/bootcamp_env/lib/python3.10/site-packages/urllib3/response.py:1091\u001b[0m, in \u001b[0;36mHTTPResponse.stream\u001b[0;34m(self, amt, decode_content)\u001b[0m\n\u001b[1;32m   1089\u001b[0m \u001b[38;5;28;01melse\u001b[39;00m:\n\u001b[1;32m   1090\u001b[0m     \u001b[38;5;28;01mwhile\u001b[39;00m \u001b[38;5;129;01mnot\u001b[39;00m is_fp_closed(\u001b[38;5;28mself\u001b[39m\u001b[38;5;241m.\u001b[39m_fp) \u001b[38;5;129;01mor\u001b[39;00m \u001b[38;5;28mlen\u001b[39m(\u001b[38;5;28mself\u001b[39m\u001b[38;5;241m.\u001b[39m_decoded_buffer) \u001b[38;5;241m>\u001b[39m \u001b[38;5;241m0\u001b[39m:\n\u001b[0;32m-> 1091\u001b[0m         data \u001b[38;5;241m=\u001b[39m \u001b[38;5;28;43mself\u001b[39;49m\u001b[38;5;241;43m.\u001b[39;49m\u001b[43mread\u001b[49m\u001b[43m(\u001b[49m\u001b[43mamt\u001b[49m\u001b[38;5;241;43m=\u001b[39;49m\u001b[43mamt\u001b[49m\u001b[43m,\u001b[49m\u001b[43m \u001b[49m\u001b[43mdecode_content\u001b[49m\u001b[38;5;241;43m=\u001b[39;49m\u001b[43mdecode_content\u001b[49m\u001b[43m)\u001b[49m\n\u001b[1;32m   1093\u001b[0m         \u001b[38;5;28;01mif\u001b[39;00m data:\n\u001b[1;32m   1094\u001b[0m             \u001b[38;5;28;01myield\u001b[39;00m data\n",
      "File \u001b[0;32m/opt/miniconda3/envs/bootcamp_env/lib/python3.10/site-packages/urllib3/response.py:980\u001b[0m, in \u001b[0;36mHTTPResponse.read\u001b[0;34m(self, amt, decode_content, cache_content)\u001b[0m\n\u001b[1;32m    977\u001b[0m     \u001b[38;5;28;01mif\u001b[39;00m \u001b[38;5;28mlen\u001b[39m(\u001b[38;5;28mself\u001b[39m\u001b[38;5;241m.\u001b[39m_decoded_buffer) \u001b[38;5;241m>\u001b[39m\u001b[38;5;241m=\u001b[39m amt:\n\u001b[1;32m    978\u001b[0m         \u001b[38;5;28;01mreturn\u001b[39;00m \u001b[38;5;28mself\u001b[39m\u001b[38;5;241m.\u001b[39m_decoded_buffer\u001b[38;5;241m.\u001b[39mget(amt)\n\u001b[0;32m--> 980\u001b[0m data \u001b[38;5;241m=\u001b[39m \u001b[38;5;28;43mself\u001b[39;49m\u001b[38;5;241;43m.\u001b[39;49m\u001b[43m_raw_read\u001b[49m\u001b[43m(\u001b[49m\u001b[43mamt\u001b[49m\u001b[43m)\u001b[49m\n\u001b[1;32m    982\u001b[0m flush_decoder \u001b[38;5;241m=\u001b[39m amt \u001b[38;5;129;01mis\u001b[39;00m \u001b[38;5;28;01mNone\u001b[39;00m \u001b[38;5;129;01mor\u001b[39;00m (amt \u001b[38;5;241m!=\u001b[39m \u001b[38;5;241m0\u001b[39m \u001b[38;5;129;01mand\u001b[39;00m \u001b[38;5;129;01mnot\u001b[39;00m data)\n\u001b[1;32m    984\u001b[0m \u001b[38;5;28;01mif\u001b[39;00m \u001b[38;5;129;01mnot\u001b[39;00m data \u001b[38;5;129;01mand\u001b[39;00m \u001b[38;5;28mlen\u001b[39m(\u001b[38;5;28mself\u001b[39m\u001b[38;5;241m.\u001b[39m_decoded_buffer) \u001b[38;5;241m==\u001b[39m \u001b[38;5;241m0\u001b[39m:\n",
      "File \u001b[0;32m/opt/miniconda3/envs/bootcamp_env/lib/python3.10/site-packages/urllib3/response.py:904\u001b[0m, in \u001b[0;36mHTTPResponse._raw_read\u001b[0;34m(self, amt, read1)\u001b[0m\n\u001b[1;32m    901\u001b[0m fp_closed \u001b[38;5;241m=\u001b[39m \u001b[38;5;28mgetattr\u001b[39m(\u001b[38;5;28mself\u001b[39m\u001b[38;5;241m.\u001b[39m_fp, \u001b[38;5;124m\"\u001b[39m\u001b[38;5;124mclosed\u001b[39m\u001b[38;5;124m\"\u001b[39m, \u001b[38;5;28;01mFalse\u001b[39;00m)\n\u001b[1;32m    903\u001b[0m \u001b[38;5;28;01mwith\u001b[39;00m \u001b[38;5;28mself\u001b[39m\u001b[38;5;241m.\u001b[39m_error_catcher():\n\u001b[0;32m--> 904\u001b[0m     data \u001b[38;5;241m=\u001b[39m \u001b[38;5;28;43mself\u001b[39;49m\u001b[38;5;241;43m.\u001b[39;49m\u001b[43m_fp_read\u001b[49m\u001b[43m(\u001b[49m\u001b[43mamt\u001b[49m\u001b[43m,\u001b[49m\u001b[43m \u001b[49m\u001b[43mread1\u001b[49m\u001b[38;5;241;43m=\u001b[39;49m\u001b[43mread1\u001b[49m\u001b[43m)\u001b[49m \u001b[38;5;28;01mif\u001b[39;00m \u001b[38;5;129;01mnot\u001b[39;00m fp_closed \u001b[38;5;28;01melse\u001b[39;00m \u001b[38;5;124mb\u001b[39m\u001b[38;5;124m\"\u001b[39m\u001b[38;5;124m\"\u001b[39m\n\u001b[1;32m    905\u001b[0m     \u001b[38;5;28;01mif\u001b[39;00m amt \u001b[38;5;129;01mis\u001b[39;00m \u001b[38;5;129;01mnot\u001b[39;00m \u001b[38;5;28;01mNone\u001b[39;00m \u001b[38;5;129;01mand\u001b[39;00m amt \u001b[38;5;241m!=\u001b[39m \u001b[38;5;241m0\u001b[39m \u001b[38;5;129;01mand\u001b[39;00m \u001b[38;5;129;01mnot\u001b[39;00m data:\n\u001b[1;32m    906\u001b[0m         \u001b[38;5;66;03m# Platform-specific: Buggy versions of Python.\u001b[39;00m\n\u001b[1;32m    907\u001b[0m         \u001b[38;5;66;03m# Close the connection when no data is returned\u001b[39;00m\n\u001b[0;32m   (...)\u001b[0m\n\u001b[1;32m    912\u001b[0m         \u001b[38;5;66;03m# not properly close the connection in all cases. There is\u001b[39;00m\n\u001b[1;32m    913\u001b[0m         \u001b[38;5;66;03m# no harm in redundantly calling close.\u001b[39;00m\n\u001b[1;32m    914\u001b[0m         \u001b[38;5;28mself\u001b[39m\u001b[38;5;241m.\u001b[39m_fp\u001b[38;5;241m.\u001b[39mclose()\n",
      "File \u001b[0;32m/opt/miniconda3/envs/bootcamp_env/lib/python3.10/site-packages/urllib3/response.py:887\u001b[0m, in \u001b[0;36mHTTPResponse._fp_read\u001b[0;34m(self, amt, read1)\u001b[0m\n\u001b[1;32m    884\u001b[0m     \u001b[38;5;28;01mreturn\u001b[39;00m \u001b[38;5;28mself\u001b[39m\u001b[38;5;241m.\u001b[39m_fp\u001b[38;5;241m.\u001b[39mread1(amt) \u001b[38;5;28;01mif\u001b[39;00m amt \u001b[38;5;129;01mis\u001b[39;00m \u001b[38;5;129;01mnot\u001b[39;00m \u001b[38;5;28;01mNone\u001b[39;00m \u001b[38;5;28;01melse\u001b[39;00m \u001b[38;5;28mself\u001b[39m\u001b[38;5;241m.\u001b[39m_fp\u001b[38;5;241m.\u001b[39mread1()\n\u001b[1;32m    885\u001b[0m \u001b[38;5;28;01melse\u001b[39;00m:\n\u001b[1;32m    886\u001b[0m     \u001b[38;5;66;03m# StringIO doesn't like amt=None\u001b[39;00m\n\u001b[0;32m--> 887\u001b[0m     \u001b[38;5;28;01mreturn\u001b[39;00m \u001b[38;5;28;43mself\u001b[39;49m\u001b[38;5;241;43m.\u001b[39;49m\u001b[43m_fp\u001b[49m\u001b[38;5;241;43m.\u001b[39;49m\u001b[43mread\u001b[49m\u001b[43m(\u001b[49m\u001b[43mamt\u001b[49m\u001b[43m)\u001b[49m \u001b[38;5;28;01mif\u001b[39;00m amt \u001b[38;5;129;01mis\u001b[39;00m \u001b[38;5;129;01mnot\u001b[39;00m \u001b[38;5;28;01mNone\u001b[39;00m \u001b[38;5;28;01melse\u001b[39;00m \u001b[38;5;28mself\u001b[39m\u001b[38;5;241m.\u001b[39m_fp\u001b[38;5;241m.\u001b[39mread()\n",
      "File \u001b[0;32m/opt/miniconda3/envs/bootcamp_env/lib/python3.10/http/client.py:466\u001b[0m, in \u001b[0;36mHTTPResponse.read\u001b[0;34m(self, amt)\u001b[0m\n\u001b[1;32m    463\u001b[0m \u001b[38;5;28;01mif\u001b[39;00m \u001b[38;5;28mself\u001b[39m\u001b[38;5;241m.\u001b[39mlength \u001b[38;5;129;01mis\u001b[39;00m \u001b[38;5;129;01mnot\u001b[39;00m \u001b[38;5;28;01mNone\u001b[39;00m \u001b[38;5;129;01mand\u001b[39;00m amt \u001b[38;5;241m>\u001b[39m \u001b[38;5;28mself\u001b[39m\u001b[38;5;241m.\u001b[39mlength:\n\u001b[1;32m    464\u001b[0m     \u001b[38;5;66;03m# clip the read to the \"end of response\"\u001b[39;00m\n\u001b[1;32m    465\u001b[0m     amt \u001b[38;5;241m=\u001b[39m \u001b[38;5;28mself\u001b[39m\u001b[38;5;241m.\u001b[39mlength\n\u001b[0;32m--> 466\u001b[0m s \u001b[38;5;241m=\u001b[39m \u001b[38;5;28;43mself\u001b[39;49m\u001b[38;5;241;43m.\u001b[39;49m\u001b[43mfp\u001b[49m\u001b[38;5;241;43m.\u001b[39;49m\u001b[43mread\u001b[49m\u001b[43m(\u001b[49m\u001b[43mamt\u001b[49m\u001b[43m)\u001b[49m\n\u001b[1;32m    467\u001b[0m \u001b[38;5;28;01mif\u001b[39;00m \u001b[38;5;129;01mnot\u001b[39;00m s \u001b[38;5;129;01mand\u001b[39;00m amt:\n\u001b[1;32m    468\u001b[0m     \u001b[38;5;66;03m# Ideally, we would raise IncompleteRead if the content-length\u001b[39;00m\n\u001b[1;32m    469\u001b[0m     \u001b[38;5;66;03m# wasn't satisfied, but it might break compatibility.\u001b[39;00m\n\u001b[1;32m    470\u001b[0m     \u001b[38;5;28mself\u001b[39m\u001b[38;5;241m.\u001b[39m_close_conn()\n",
      "File \u001b[0;32m/opt/miniconda3/envs/bootcamp_env/lib/python3.10/socket.py:717\u001b[0m, in \u001b[0;36mSocketIO.readinto\u001b[0;34m(self, b)\u001b[0m\n\u001b[1;32m    715\u001b[0m \u001b[38;5;28;01mwhile\u001b[39;00m \u001b[38;5;28;01mTrue\u001b[39;00m:\n\u001b[1;32m    716\u001b[0m     \u001b[38;5;28;01mtry\u001b[39;00m:\n\u001b[0;32m--> 717\u001b[0m         \u001b[38;5;28;01mreturn\u001b[39;00m \u001b[38;5;28;43mself\u001b[39;49m\u001b[38;5;241;43m.\u001b[39;49m\u001b[43m_sock\u001b[49m\u001b[38;5;241;43m.\u001b[39;49m\u001b[43mrecv_into\u001b[49m\u001b[43m(\u001b[49m\u001b[43mb\u001b[49m\u001b[43m)\u001b[49m\n\u001b[1;32m    718\u001b[0m     \u001b[38;5;28;01mexcept\u001b[39;00m timeout:\n\u001b[1;32m    719\u001b[0m         \u001b[38;5;28mself\u001b[39m\u001b[38;5;241m.\u001b[39m_timeout_occurred \u001b[38;5;241m=\u001b[39m \u001b[38;5;28;01mTrue\u001b[39;00m\n",
      "File \u001b[0;32m/opt/miniconda3/envs/bootcamp_env/lib/python3.10/ssl.py:1307\u001b[0m, in \u001b[0;36mSSLSocket.recv_into\u001b[0;34m(self, buffer, nbytes, flags)\u001b[0m\n\u001b[1;32m   1303\u001b[0m     \u001b[38;5;28;01mif\u001b[39;00m flags \u001b[38;5;241m!=\u001b[39m \u001b[38;5;241m0\u001b[39m:\n\u001b[1;32m   1304\u001b[0m         \u001b[38;5;28;01mraise\u001b[39;00m \u001b[38;5;167;01mValueError\u001b[39;00m(\n\u001b[1;32m   1305\u001b[0m           \u001b[38;5;124m\"\u001b[39m\u001b[38;5;124mnon-zero flags not allowed in calls to recv_into() on \u001b[39m\u001b[38;5;132;01m%s\u001b[39;00m\u001b[38;5;124m\"\u001b[39m \u001b[38;5;241m%\u001b[39m\n\u001b[1;32m   1306\u001b[0m           \u001b[38;5;28mself\u001b[39m\u001b[38;5;241m.\u001b[39m\u001b[38;5;18m__class__\u001b[39m)\n\u001b[0;32m-> 1307\u001b[0m     \u001b[38;5;28;01mreturn\u001b[39;00m \u001b[38;5;28;43mself\u001b[39;49m\u001b[38;5;241;43m.\u001b[39;49m\u001b[43mread\u001b[49m\u001b[43m(\u001b[49m\u001b[43mnbytes\u001b[49m\u001b[43m,\u001b[49m\u001b[43m \u001b[49m\u001b[43mbuffer\u001b[49m\u001b[43m)\u001b[49m\n\u001b[1;32m   1308\u001b[0m \u001b[38;5;28;01melse\u001b[39;00m:\n\u001b[1;32m   1309\u001b[0m     \u001b[38;5;28;01mreturn\u001b[39;00m \u001b[38;5;28msuper\u001b[39m()\u001b[38;5;241m.\u001b[39mrecv_into(buffer, nbytes, flags)\n",
      "File \u001b[0;32m/opt/miniconda3/envs/bootcamp_env/lib/python3.10/ssl.py:1163\u001b[0m, in \u001b[0;36mSSLSocket.read\u001b[0;34m(self, len, buffer)\u001b[0m\n\u001b[1;32m   1161\u001b[0m \u001b[38;5;28;01mtry\u001b[39;00m:\n\u001b[1;32m   1162\u001b[0m     \u001b[38;5;28;01mif\u001b[39;00m buffer \u001b[38;5;129;01mis\u001b[39;00m \u001b[38;5;129;01mnot\u001b[39;00m \u001b[38;5;28;01mNone\u001b[39;00m:\n\u001b[0;32m-> 1163\u001b[0m         \u001b[38;5;28;01mreturn\u001b[39;00m \u001b[38;5;28;43mself\u001b[39;49m\u001b[38;5;241;43m.\u001b[39;49m\u001b[43m_sslobj\u001b[49m\u001b[38;5;241;43m.\u001b[39;49m\u001b[43mread\u001b[49m\u001b[43m(\u001b[49m\u001b[38;5;28;43mlen\u001b[39;49m\u001b[43m,\u001b[49m\u001b[43m \u001b[49m\u001b[43mbuffer\u001b[49m\u001b[43m)\u001b[49m\n\u001b[1;32m   1164\u001b[0m     \u001b[38;5;28;01melse\u001b[39;00m:\n\u001b[1;32m   1165\u001b[0m         \u001b[38;5;28;01mreturn\u001b[39;00m \u001b[38;5;28mself\u001b[39m\u001b[38;5;241m.\u001b[39m_sslobj\u001b[38;5;241m.\u001b[39mread(\u001b[38;5;28mlen\u001b[39m)\n",
      "\u001b[0;31mKeyboardInterrupt\u001b[0m: "
     ]
    }
   ],
   "source": [
    "# 2. Cargar embeddings GloVe (descargar si no lo tienes)\n",
    "\n",
    "# Ruta y nombre del archivo\n",
    "glove_url = \"http://nlp.stanford.edu/data/glove.6B.zip\"\n",
    "glove_zip_path = \"../data/glove.6B.zip\"\n",
    "glove_dir = \"../data/\"\n",
    "\n",
    "# Descargar si no existe\n",
    "if not os.path.exists(glove_zip_path):\n",
    "    print(\"Descargando GloVe...\")\n",
    "    response = requests.get(glove_url, stream=True)\n",
    "    total_size = int(response.headers.get('content-length', 0))\n",
    "    block_size = 1024  # 1 KB\n",
    "    with open(glove_zip_path, \"wb\") as f, tqdm(\n",
    "        desc=\"Descargando\",\n",
    "        total=total_size,\n",
    "        unit='B',\n",
    "        unit_scale=True,\n",
    "        unit_divisor=1024,\n",
    "    ) as bar:\n",
    "        for data in response.iter_content(block_size):\n",
    "            f.write(data)\n",
    "            bar.update(len(data))\n",
    "    print(\"Descarga completada.\")\n",
    "\n",
    "# Descomprimir si no está descomprimido\n",
    "if not os.path.exists(os.path.join(glove_dir, \"glove.6B.100d.txt\")):\n",
    "    print(\"Descomprimiendo GloVe...\")\n",
    "    with zipfile.ZipFile(glove_zip_path, \"r\") as zip_ref:\n",
    "        zip_ref.extractall(glove_dir)\n",
    "    print(\"Descompresión completada.\")"
   ]
  },
  {
   "cell_type": "code",
   "execution_count": null,
   "id": "f40fc666",
   "metadata": {},
   "outputs": [],
   "source": [
    "embedding_dim = 100\n",
    "embedding_index = {}\n",
    "with open(\"../data/glove.6B.100d.txt\", encoding=\"utf8\") as f:\n",
    "    for line in f:\n",
    "        values = line.split()\n",
    "        word = values[0]\n",
    "        vector = np.asarray(values[1:], dtype='float32')\n",
    "        embedding_index[word] = vector\n",
    "\n",
    "# 3. Crear la matriz de embeddings\n",
    "word_index = tokenizer.word_index\n",
    "num_words = min(max_words, len(word_index) + 1)\n",
    "embedding_matrix = np.zeros((num_words, embedding_dim))\n",
    "for word, i in word_index.items():\n",
    "    if i < num_words:\n",
    "        embedding_vector = embedding_index.get(word)\n",
    "        if embedding_vector is not None:\n",
    "            embedding_matrix[i] = embedding_vector\n",
    "\n",
    "# 4. Construir la red neuronal (LSTM sencilla)\n",
    "from tensorflow.keras.models import Sequential\n",
    "from tensorflow.keras.layers import Embedding, LSTM, Dense, Dropout\n",
    "\n",
    "model = Sequential([\n",
    "    Embedding(num_words, embedding_dim, weights=[embedding_matrix], input_length=max_len, trainable=False),\n",
    "    LSTM(64, dropout=0.2, recurrent_dropout=0.2),\n",
    "    Dense(1, activation='sigmoid')\n",
    "])\n",
    "\n",
    "model.compile(optimizer='adam', loss='binary_crossentropy', metrics=['accuracy'])\n",
    "\n",
    "# 5. Entrenar la red\n",
    "history = model.fit(\n",
    "    X_train_pad, y_train_enc,\n",
    "    epochs=5, batch_size=64,\n",
    "    validation_data=(X_test_pad, y_test_enc),\n",
    "    verbose=2\n",
    ")\n",
    "\n",
    "# 6. Evaluar\n",
    "loss, acc = model.evaluate(X_test_pad, y_test_enc, verbose=0)\n",
    "print(f\"\\nAccuracy red neuronal (Embeddings+LSTM): {acc:.4f}\")"
   ]
  }
 ],
 "metadata": {
  "kernelspec": {
   "display_name": "bootcamp_env",
   "language": "python",
   "name": "python3"
  },
  "language_info": {
   "codemirror_mode": {
    "name": "ipython",
    "version": 3
   },
   "file_extension": ".py",
   "mimetype": "text/x-python",
   "name": "python",
   "nbconvert_exporter": "python",
   "pygments_lexer": "ipython3",
   "version": "3.10.18"
  }
 },
 "nbformat": 4,
 "nbformat_minor": 5
}
